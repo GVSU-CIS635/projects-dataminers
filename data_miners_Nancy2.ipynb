{
  "cells": [
    {
      "cell_type": "markdown",
      "id": "db1b04c3",
      "metadata": {
        "id": "db1b04c3"
      },
      "source": [
        "## CIS 635 Project\n",
        "\n",
        "### Leveraging Data Mining to Understand and Predict Airbnb Listing Prices\n",
        "\n",
        "#### Loading required libraries"
      ]
    },
    {
      "cell_type": "code",
      "execution_count": null,
      "id": "46999ddd",
      "metadata": {
        "id": "46999ddd"
      },
      "outputs": [],
      "source": [
        "import kagglehub\n",
        "import pandas as pd\n",
        "import numpy as np\n",
        "import os\n",
        "import matplotlib.pyplot as plt\n",
        "import seaborn as sns\n",
        "import math\n",
        "from scipy import stats\n",
        "from sklearn.preprocessing import StandardScaler"
      ]
    },
    {
      "cell_type": "markdown",
      "id": "12f14210",
      "metadata": {
        "id": "12f14210"
      },
      "source": [
        "#### Downloading data from kaggle website\n",
        "\n",
        "The data we are using for this project is hosted in kaggle. [U.S. Airbnb Open Data](https://www.kaggle.com/datasets/kritikseth/us-airbnb-open-data)"
      ]
    },
    {
      "cell_type": "markdown",
      "id": "98993891",
      "metadata": {
        "id": "98993891"
      },
      "source": [
        "#### Downloading datasets in csv format"
      ]
    },
    {
      "cell_type": "code",
      "execution_count": null,
      "id": "6fbc00c3",
      "metadata": {
        "colab": {
          "base_uri": "https://localhost:8080/"
        },
        "id": "6fbc00c3",
        "outputId": "341666bc-6ea4-4f38-fe40-1574c7f9e436"
      },
      "outputs": [
        {
          "output_type": "stream",
          "name": "stdout",
          "text": [
            "Using Colab cache for faster access to the 'us-airbnb-open-data' dataset.\n"
          ]
        }
      ],
      "source": [
        "#Path to the dataset\n",
        "path = kagglehub.dataset_download(\"kritikseth/us-airbnb-open-data\")"
      ]
    },
    {
      "cell_type": "code",
      "execution_count": null,
      "id": "fab6d93d",
      "metadata": {
        "colab": {
          "base_uri": "https://localhost:8080/"
        },
        "id": "fab6d93d",
        "outputId": "eb06d792-d2cf-4042-aa4b-bd3133f1e664"
      },
      "outputs": [
        {
          "output_type": "stream",
          "name": "stderr",
          "text": [
            "/tmp/ipython-input-798040142.py:5: DtypeWarning: Columns (4) have mixed types. Specify dtype option on import or set low_memory=False.\n",
            "  df1 = pd.read_csv(csv_path1)\n",
            "/tmp/ipython-input-798040142.py:6: DtypeWarning: Columns (4) have mixed types. Specify dtype option on import or set low_memory=False.\n",
            "  df2 = pd.read_csv(csv_path2)\n"
          ]
        },
        {
          "output_type": "stream",
          "name": "stdout",
          "text": [
            "                 id       host_id       latitude      longitude  \\\n",
            "count  2.260300e+05  2.260300e+05  226030.000000  226030.000000   \n",
            "mean   2.547176e+07  9.352385e+07      35.662829    -103.220662   \n",
            "std    1.317814e+07  9.827422e+07       6.849855      26.222091   \n",
            "min    1.090000e+02  2.300000e+01      18.920990    -159.714900   \n",
            "25%    1.515890e+07  1.399275e+07      32.761783    -118.598115   \n",
            "50%    2.590916e+07  5.138266e+07      37.261125     -97.817200   \n",
            "75%    3.772624e+07  1.497179e+08      40.724038     -76.919323   \n",
            "max    4.556085e+07  3.679176e+08      47.734620     -70.995950   \n",
            "\n",
            "               price  minimum_nights  number_of_reviews  reviews_per_month  \\\n",
            "count  226030.000000    2.260300e+05      226030.000000       177428.00000   \n",
            "mean      219.716529    4.525490e+02          34.506530            1.43145   \n",
            "std       570.353609    2.103376e+05          63.602914            1.68321   \n",
            "min         0.000000    1.000000e+00           0.000000            0.01000   \n",
            "25%        75.000000    1.000000e+00           1.000000            0.23000   \n",
            "50%       121.000000    2.000000e+00           8.000000            0.81000   \n",
            "75%       201.000000    7.000000e+00          39.000000            2.06000   \n",
            "max     24999.000000    1.000000e+08         966.000000           44.06000   \n",
            "\n",
            "       calculated_host_listings_count  availability_365  \n",
            "count                   226030.000000     226030.000000  \n",
            "mean                        16.698562        159.314856  \n",
            "std                         51.068966        140.179628  \n",
            "min                          1.000000          0.000000  \n",
            "25%                          1.000000          0.000000  \n",
            "50%                          2.000000        140.000000  \n",
            "75%                          6.000000        311.000000  \n",
            "max                        593.000000        365.000000  \n",
            "                 id       host_id       latitude      longitude  \\\n",
            "count  2.321470e+05  2.321470e+05  232147.000000  232147.000000   \n",
            "mean   2.584580e+17  1.582248e+08      36.610585     -98.301436   \n",
            "std    3.465985e+17  1.587164e+08       5.126523      19.706929   \n",
            "min    6.000000e+00  2.300000e+01      25.957323    -123.089130   \n",
            "25%    2.638896e+07  2.299242e+07      33.976225    -118.315111   \n",
            "50%    4.896307e+07  1.005783e+08      36.190556     -97.727670   \n",
            "75%    6.633014e+17  2.686930e+08      40.717440     -77.026222   \n",
            "max    8.581014e+17  5.069384e+08      47.734010     -70.996000   \n",
            "\n",
            "               price  minimum_nights  number_of_reviews  reviews_per_month  \\\n",
            "count  232147.000000   232147.000000      232147.000000      183062.000000   \n",
            "mean      259.468001       13.495867          40.915230           1.638348   \n",
            "std      1024.645918       27.920631          80.649152           1.910812   \n",
            "min         0.000000        1.000000           0.000000           0.010000   \n",
            "25%        91.000000        2.000000           1.000000           0.310000   \n",
            "50%       149.000000        3.000000           9.000000           1.000000   \n",
            "75%       250.000000       30.000000          43.000000           2.420000   \n",
            "max    100000.000000     1250.000000        3091.000000         101.420000   \n",
            "\n",
            "       calculated_host_listings_count  availability_365  number_of_reviews_ltm  \n",
            "count                   232147.000000     232147.000000          232147.000000  \n",
            "mean                        29.879055        180.985686              11.689701  \n",
            "std                        106.013665        134.715299              20.599954  \n",
            "min                          1.000000          0.000000               0.000000  \n",
            "25%                          1.000000         52.000000               0.000000  \n",
            "50%                          2.000000        175.000000               3.000000  \n",
            "75%                         10.000000        321.000000              16.000000  \n",
            "max                       1003.000000        365.000000            1314.000000  \n"
          ]
        }
      ],
      "source": [
        "#Connecting to files in path\n",
        "csv_path1 = os.path.join(path, \"AB_US_2020.csv\")\n",
        "csv_path2 = os.path.join(path, \"AB_US_2023.csv\")\n",
        "#Load the data from CSV files\n",
        "df1 = pd.read_csv(csv_path1)\n",
        "df2 = pd.read_csv(csv_path2)\n",
        "#Previewing the two datasets\n",
        "print(df1.describe())\n",
        "print(df2.describe())"
      ]
    },
    {
      "cell_type": "code",
      "execution_count": null,
      "id": "7f55d5f9",
      "metadata": {
        "colab": {
          "base_uri": "https://localhost:8080/"
        },
        "id": "7f55d5f9",
        "outputId": "3e211794-bb5c-47a4-9460-1adc783e4a66"
      },
      "outputs": [
        {
          "output_type": "stream",
          "name": "stdout",
          "text": [
            "Columns in df1 = 17\n",
            "Columns in df2 = 18\n"
          ]
        }
      ],
      "source": [
        "#checking the length of columns in df1 and df2\n",
        "print(f'Columns in df1 = {len(df1.columns)}')\n",
        "print(f'Columns in df2 = {len(df2.columns)}')"
      ]
    },
    {
      "cell_type": "code",
      "execution_count": null,
      "id": "838ae4cd",
      "metadata": {
        "colab": {
          "base_uri": "https://localhost:8080/"
        },
        "id": "838ae4cd",
        "outputId": "7438fde4-5718-4347-d427-dfb1066f34c0"
      },
      "outputs": [
        {
          "output_type": "stream",
          "name": "stdout",
          "text": [
            "Common columns: {'id', 'room_type', 'number_of_reviews', 'host_name', 'latitude', 'city', 'reviews_per_month', 'last_review', 'calculated_host_listings_count', 'price', 'neighbourhood', 'host_id', 'longitude', 'name', 'availability_365', 'neighbourhood_group', 'minimum_nights'}\n",
            "Columns unique to df2: {'number_of_reviews_ltm'}\n"
          ]
        }
      ],
      "source": [
        "#Selecting columns common in both df1 and df2 before concatenating the dataframes\n",
        "df1_cols = set(df1.columns)\n",
        "df2_cols = set(df2.columns)\n",
        "\n",
        "#Common columns\n",
        "common = df1_cols & df2_cols\n",
        "unique_to_df2 = df2_cols - df1_cols\n",
        "print(\"Common columns:\", common)\n",
        "print(\"Columns unique to df2:\", unique_to_df2)"
      ]
    },
    {
      "cell_type": "code",
      "execution_count": null,
      "id": "418f0805",
      "metadata": {
        "colab": {
          "base_uri": "https://localhost:8080/"
        },
        "id": "418f0805",
        "outputId": "8c05485d-43cb-49a1-abfd-e075b0d15f49"
      },
      "outputs": [
        {
          "output_type": "stream",
          "name": "stdout",
          "text": [
            "\n",
            "Columns unique to df1: set()\n",
            "\n",
            "Columns unique to df2: {'number_of_reviews_ltm'}\n"
          ]
        }
      ],
      "source": [
        "# Finding unique columns in df1 (columns that are in df1 but not in df2)\n",
        "unique_df1 = df1_cols - df2_cols\n",
        "print(\"\\nColumns unique to df1:\", unique_df1)\n",
        "# Finding unique columns in df2 (columns that are in df2 but not in df1)\n",
        "unique_df2 = df2_cols - df1_cols\n",
        "print(\"\\nColumns unique to df2:\", unique_df2)"
      ]
    },
    {
      "cell_type": "code",
      "execution_count": null,
      "id": "8f3d5b96",
      "metadata": {
        "colab": {
          "base_uri": "https://localhost:8080/"
        },
        "id": "8f3d5b96",
        "outputId": "64ec69eb-9d79-473c-d10a-b2cf683bd1b3"
      },
      "outputs": [
        {
          "output_type": "execute_result",
          "data": {
            "text/plain": [
              "17"
            ]
          },
          "metadata": {},
          "execution_count": 233
        }
      ],
      "source": [
        "#selecting only common columns in df2 to merge df1.\n",
        "df2 = df2[list(common)]\n",
        "len(df2.columns)"
      ]
    },
    {
      "cell_type": "code",
      "execution_count": null,
      "id": "30bd9182",
      "metadata": {
        "id": "30bd9182"
      },
      "outputs": [],
      "source": [
        "#concatenating df1 and df2\n",
        "joined_df = pd.concat([df1, df2], axis=0, ignore_index=True)\n",
        "merged_df = joined_df.copy()"
      ]
    },
    {
      "cell_type": "code",
      "execution_count": null,
      "id": "6c07f971",
      "metadata": {
        "colab": {
          "base_uri": "https://localhost:8080/",
          "height": 348
        },
        "id": "6c07f971",
        "outputId": "a93925a3-7880-4657-9e58-0fe3479449ca"
      },
      "outputs": [
        {
          "output_type": "execute_result",
          "data": {
            "text/plain": [
              "       id                                               name  host_id  \\\n",
              "0   38585    Charming Victorian home - twin beds + breakfast   165529   \n",
              "1   80905                                   French Chic Loft   427027   \n",
              "2  108061  Walk to stores/parks/downtown. Fenced yard/Pet...   320564   \n",
              "3  155305                 Cottage! BonPaul + Sharky's Hostel   746673   \n",
              "4  160594                                Historic Grove Park   769252   \n",
              "\n",
              "   host_name neighbourhood_group neighbourhood  latitude  longitude  \\\n",
              "0    Evelyne                 NaN         28804  35.65146  -82.62792   \n",
              "1    Celeste                 NaN         28801  35.59779  -82.55540   \n",
              "2       Lisa                 NaN         28801  35.60670  -82.55563   \n",
              "3    BonPaul                 NaN         28806  35.57864  -82.59578   \n",
              "4  Elizabeth                 NaN         28801  35.61442  -82.54127   \n",
              "\n",
              "         room_type  price  minimum_nights  number_of_reviews last_review  \\\n",
              "0     Private room     60               1                138    16/02/20   \n",
              "1  Entire home/apt    470               1                114    07/09/20   \n",
              "2  Entire home/apt     75              30                 89    30/11/19   \n",
              "3  Entire home/apt     90               1                267    22/09/20   \n",
              "4     Private room    125              30                 58    19/10/15   \n",
              "\n",
              "   reviews_per_month  calculated_host_listings_count  availability_365  \\\n",
              "0               1.14                               1                 0   \n",
              "1               1.03                              11               288   \n",
              "2               0.81                               2               298   \n",
              "3               2.39                               5                 0   \n",
              "4               0.52                               1                 0   \n",
              "\n",
              "        city  \n",
              "0  Asheville  \n",
              "1  Asheville  \n",
              "2  Asheville  \n",
              "3  Asheville  \n",
              "4  Asheville  "
            ],
            "text/html": [
              "\n",
              "  <div id=\"df-dbe6f97c-9464-4796-a906-2cdc15da7ca9\" class=\"colab-df-container\">\n",
              "    <div>\n",
              "<style scoped>\n",
              "    .dataframe tbody tr th:only-of-type {\n",
              "        vertical-align: middle;\n",
              "    }\n",
              "\n",
              "    .dataframe tbody tr th {\n",
              "        vertical-align: top;\n",
              "    }\n",
              "\n",
              "    .dataframe thead th {\n",
              "        text-align: right;\n",
              "    }\n",
              "</style>\n",
              "<table border=\"1\" class=\"dataframe\">\n",
              "  <thead>\n",
              "    <tr style=\"text-align: right;\">\n",
              "      <th></th>\n",
              "      <th>id</th>\n",
              "      <th>name</th>\n",
              "      <th>host_id</th>\n",
              "      <th>host_name</th>\n",
              "      <th>neighbourhood_group</th>\n",
              "      <th>neighbourhood</th>\n",
              "      <th>latitude</th>\n",
              "      <th>longitude</th>\n",
              "      <th>room_type</th>\n",
              "      <th>price</th>\n",
              "      <th>minimum_nights</th>\n",
              "      <th>number_of_reviews</th>\n",
              "      <th>last_review</th>\n",
              "      <th>reviews_per_month</th>\n",
              "      <th>calculated_host_listings_count</th>\n",
              "      <th>availability_365</th>\n",
              "      <th>city</th>\n",
              "    </tr>\n",
              "  </thead>\n",
              "  <tbody>\n",
              "    <tr>\n",
              "      <th>0</th>\n",
              "      <td>38585</td>\n",
              "      <td>Charming Victorian home - twin beds + breakfast</td>\n",
              "      <td>165529</td>\n",
              "      <td>Evelyne</td>\n",
              "      <td>NaN</td>\n",
              "      <td>28804</td>\n",
              "      <td>35.65146</td>\n",
              "      <td>-82.62792</td>\n",
              "      <td>Private room</td>\n",
              "      <td>60</td>\n",
              "      <td>1</td>\n",
              "      <td>138</td>\n",
              "      <td>16/02/20</td>\n",
              "      <td>1.14</td>\n",
              "      <td>1</td>\n",
              "      <td>0</td>\n",
              "      <td>Asheville</td>\n",
              "    </tr>\n",
              "    <tr>\n",
              "      <th>1</th>\n",
              "      <td>80905</td>\n",
              "      <td>French Chic Loft</td>\n",
              "      <td>427027</td>\n",
              "      <td>Celeste</td>\n",
              "      <td>NaN</td>\n",
              "      <td>28801</td>\n",
              "      <td>35.59779</td>\n",
              "      <td>-82.55540</td>\n",
              "      <td>Entire home/apt</td>\n",
              "      <td>470</td>\n",
              "      <td>1</td>\n",
              "      <td>114</td>\n",
              "      <td>07/09/20</td>\n",
              "      <td>1.03</td>\n",
              "      <td>11</td>\n",
              "      <td>288</td>\n",
              "      <td>Asheville</td>\n",
              "    </tr>\n",
              "    <tr>\n",
              "      <th>2</th>\n",
              "      <td>108061</td>\n",
              "      <td>Walk to stores/parks/downtown. Fenced yard/Pet...</td>\n",
              "      <td>320564</td>\n",
              "      <td>Lisa</td>\n",
              "      <td>NaN</td>\n",
              "      <td>28801</td>\n",
              "      <td>35.60670</td>\n",
              "      <td>-82.55563</td>\n",
              "      <td>Entire home/apt</td>\n",
              "      <td>75</td>\n",
              "      <td>30</td>\n",
              "      <td>89</td>\n",
              "      <td>30/11/19</td>\n",
              "      <td>0.81</td>\n",
              "      <td>2</td>\n",
              "      <td>298</td>\n",
              "      <td>Asheville</td>\n",
              "    </tr>\n",
              "    <tr>\n",
              "      <th>3</th>\n",
              "      <td>155305</td>\n",
              "      <td>Cottage! BonPaul + Sharky's Hostel</td>\n",
              "      <td>746673</td>\n",
              "      <td>BonPaul</td>\n",
              "      <td>NaN</td>\n",
              "      <td>28806</td>\n",
              "      <td>35.57864</td>\n",
              "      <td>-82.59578</td>\n",
              "      <td>Entire home/apt</td>\n",
              "      <td>90</td>\n",
              "      <td>1</td>\n",
              "      <td>267</td>\n",
              "      <td>22/09/20</td>\n",
              "      <td>2.39</td>\n",
              "      <td>5</td>\n",
              "      <td>0</td>\n",
              "      <td>Asheville</td>\n",
              "    </tr>\n",
              "    <tr>\n",
              "      <th>4</th>\n",
              "      <td>160594</td>\n",
              "      <td>Historic Grove Park</td>\n",
              "      <td>769252</td>\n",
              "      <td>Elizabeth</td>\n",
              "      <td>NaN</td>\n",
              "      <td>28801</td>\n",
              "      <td>35.61442</td>\n",
              "      <td>-82.54127</td>\n",
              "      <td>Private room</td>\n",
              "      <td>125</td>\n",
              "      <td>30</td>\n",
              "      <td>58</td>\n",
              "      <td>19/10/15</td>\n",
              "      <td>0.52</td>\n",
              "      <td>1</td>\n",
              "      <td>0</td>\n",
              "      <td>Asheville</td>\n",
              "    </tr>\n",
              "  </tbody>\n",
              "</table>\n",
              "</div>\n",
              "    <div class=\"colab-df-buttons\">\n",
              "\n",
              "  <div class=\"colab-df-container\">\n",
              "    <button class=\"colab-df-convert\" onclick=\"convertToInteractive('df-dbe6f97c-9464-4796-a906-2cdc15da7ca9')\"\n",
              "            title=\"Convert this dataframe to an interactive table.\"\n",
              "            style=\"display:none;\">\n",
              "\n",
              "  <svg xmlns=\"http://www.w3.org/2000/svg\" height=\"24px\" viewBox=\"0 -960 960 960\">\n",
              "    <path d=\"M120-120v-720h720v720H120Zm60-500h600v-160H180v160Zm220 220h160v-160H400v160Zm0 220h160v-160H400v160ZM180-400h160v-160H180v160Zm440 0h160v-160H620v160ZM180-180h160v-160H180v160Zm440 0h160v-160H620v160Z\"/>\n",
              "  </svg>\n",
              "    </button>\n",
              "\n",
              "  <style>\n",
              "    .colab-df-container {\n",
              "      display:flex;\n",
              "      gap: 12px;\n",
              "    }\n",
              "\n",
              "    .colab-df-convert {\n",
              "      background-color: #E8F0FE;\n",
              "      border: none;\n",
              "      border-radius: 50%;\n",
              "      cursor: pointer;\n",
              "      display: none;\n",
              "      fill: #1967D2;\n",
              "      height: 32px;\n",
              "      padding: 0 0 0 0;\n",
              "      width: 32px;\n",
              "    }\n",
              "\n",
              "    .colab-df-convert:hover {\n",
              "      background-color: #E2EBFA;\n",
              "      box-shadow: 0px 1px 2px rgba(60, 64, 67, 0.3), 0px 1px 3px 1px rgba(60, 64, 67, 0.15);\n",
              "      fill: #174EA6;\n",
              "    }\n",
              "\n",
              "    .colab-df-buttons div {\n",
              "      margin-bottom: 4px;\n",
              "    }\n",
              "\n",
              "    [theme=dark] .colab-df-convert {\n",
              "      background-color: #3B4455;\n",
              "      fill: #D2E3FC;\n",
              "    }\n",
              "\n",
              "    [theme=dark] .colab-df-convert:hover {\n",
              "      background-color: #434B5C;\n",
              "      box-shadow: 0px 1px 3px 1px rgba(0, 0, 0, 0.15);\n",
              "      filter: drop-shadow(0px 1px 2px rgba(0, 0, 0, 0.3));\n",
              "      fill: #FFFFFF;\n",
              "    }\n",
              "  </style>\n",
              "\n",
              "    <script>\n",
              "      const buttonEl =\n",
              "        document.querySelector('#df-dbe6f97c-9464-4796-a906-2cdc15da7ca9 button.colab-df-convert');\n",
              "      buttonEl.style.display =\n",
              "        google.colab.kernel.accessAllowed ? 'block' : 'none';\n",
              "\n",
              "      async function convertToInteractive(key) {\n",
              "        const element = document.querySelector('#df-dbe6f97c-9464-4796-a906-2cdc15da7ca9');\n",
              "        const dataTable =\n",
              "          await google.colab.kernel.invokeFunction('convertToInteractive',\n",
              "                                                    [key], {});\n",
              "        if (!dataTable) return;\n",
              "\n",
              "        const docLinkHtml = 'Like what you see? Visit the ' +\n",
              "          '<a target=\"_blank\" href=https://colab.research.google.com/notebooks/data_table.ipynb>data table notebook</a>'\n",
              "          + ' to learn more about interactive tables.';\n",
              "        element.innerHTML = '';\n",
              "        dataTable['output_type'] = 'display_data';\n",
              "        await google.colab.output.renderOutput(dataTable, element);\n",
              "        const docLink = document.createElement('div');\n",
              "        docLink.innerHTML = docLinkHtml;\n",
              "        element.appendChild(docLink);\n",
              "      }\n",
              "    </script>\n",
              "  </div>\n",
              "\n",
              "\n",
              "    <div id=\"df-dfe01e5d-5e55-4e21-876c-8b852de1f011\">\n",
              "      <button class=\"colab-df-quickchart\" onclick=\"quickchart('df-dfe01e5d-5e55-4e21-876c-8b852de1f011')\"\n",
              "                title=\"Suggest charts\"\n",
              "                style=\"display:none;\">\n",
              "\n",
              "<svg xmlns=\"http://www.w3.org/2000/svg\" height=\"24px\"viewBox=\"0 0 24 24\"\n",
              "     width=\"24px\">\n",
              "    <g>\n",
              "        <path d=\"M19 3H5c-1.1 0-2 .9-2 2v14c0 1.1.9 2 2 2h14c1.1 0 2-.9 2-2V5c0-1.1-.9-2-2-2zM9 17H7v-7h2v7zm4 0h-2V7h2v10zm4 0h-2v-4h2v4z\"/>\n",
              "    </g>\n",
              "</svg>\n",
              "      </button>\n",
              "\n",
              "<style>\n",
              "  .colab-df-quickchart {\n",
              "      --bg-color: #E8F0FE;\n",
              "      --fill-color: #1967D2;\n",
              "      --hover-bg-color: #E2EBFA;\n",
              "      --hover-fill-color: #174EA6;\n",
              "      --disabled-fill-color: #AAA;\n",
              "      --disabled-bg-color: #DDD;\n",
              "  }\n",
              "\n",
              "  [theme=dark] .colab-df-quickchart {\n",
              "      --bg-color: #3B4455;\n",
              "      --fill-color: #D2E3FC;\n",
              "      --hover-bg-color: #434B5C;\n",
              "      --hover-fill-color: #FFFFFF;\n",
              "      --disabled-bg-color: #3B4455;\n",
              "      --disabled-fill-color: #666;\n",
              "  }\n",
              "\n",
              "  .colab-df-quickchart {\n",
              "    background-color: var(--bg-color);\n",
              "    border: none;\n",
              "    border-radius: 50%;\n",
              "    cursor: pointer;\n",
              "    display: none;\n",
              "    fill: var(--fill-color);\n",
              "    height: 32px;\n",
              "    padding: 0;\n",
              "    width: 32px;\n",
              "  }\n",
              "\n",
              "  .colab-df-quickchart:hover {\n",
              "    background-color: var(--hover-bg-color);\n",
              "    box-shadow: 0 1px 2px rgba(60, 64, 67, 0.3), 0 1px 3px 1px rgba(60, 64, 67, 0.15);\n",
              "    fill: var(--button-hover-fill-color);\n",
              "  }\n",
              "\n",
              "  .colab-df-quickchart-complete:disabled,\n",
              "  .colab-df-quickchart-complete:disabled:hover {\n",
              "    background-color: var(--disabled-bg-color);\n",
              "    fill: var(--disabled-fill-color);\n",
              "    box-shadow: none;\n",
              "  }\n",
              "\n",
              "  .colab-df-spinner {\n",
              "    border: 2px solid var(--fill-color);\n",
              "    border-color: transparent;\n",
              "    border-bottom-color: var(--fill-color);\n",
              "    animation:\n",
              "      spin 1s steps(1) infinite;\n",
              "  }\n",
              "\n",
              "  @keyframes spin {\n",
              "    0% {\n",
              "      border-color: transparent;\n",
              "      border-bottom-color: var(--fill-color);\n",
              "      border-left-color: var(--fill-color);\n",
              "    }\n",
              "    20% {\n",
              "      border-color: transparent;\n",
              "      border-left-color: var(--fill-color);\n",
              "      border-top-color: var(--fill-color);\n",
              "    }\n",
              "    30% {\n",
              "      border-color: transparent;\n",
              "      border-left-color: var(--fill-color);\n",
              "      border-top-color: var(--fill-color);\n",
              "      border-right-color: var(--fill-color);\n",
              "    }\n",
              "    40% {\n",
              "      border-color: transparent;\n",
              "      border-right-color: var(--fill-color);\n",
              "      border-top-color: var(--fill-color);\n",
              "    }\n",
              "    60% {\n",
              "      border-color: transparent;\n",
              "      border-right-color: var(--fill-color);\n",
              "    }\n",
              "    80% {\n",
              "      border-color: transparent;\n",
              "      border-right-color: var(--fill-color);\n",
              "      border-bottom-color: var(--fill-color);\n",
              "    }\n",
              "    90% {\n",
              "      border-color: transparent;\n",
              "      border-bottom-color: var(--fill-color);\n",
              "    }\n",
              "  }\n",
              "</style>\n",
              "\n",
              "      <script>\n",
              "        async function quickchart(key) {\n",
              "          const quickchartButtonEl =\n",
              "            document.querySelector('#' + key + ' button');\n",
              "          quickchartButtonEl.disabled = true;  // To prevent multiple clicks.\n",
              "          quickchartButtonEl.classList.add('colab-df-spinner');\n",
              "          try {\n",
              "            const charts = await google.colab.kernel.invokeFunction(\n",
              "                'suggestCharts', [key], {});\n",
              "          } catch (error) {\n",
              "            console.error('Error during call to suggestCharts:', error);\n",
              "          }\n",
              "          quickchartButtonEl.classList.remove('colab-df-spinner');\n",
              "          quickchartButtonEl.classList.add('colab-df-quickchart-complete');\n",
              "        }\n",
              "        (() => {\n",
              "          let quickchartButtonEl =\n",
              "            document.querySelector('#df-dfe01e5d-5e55-4e21-876c-8b852de1f011 button');\n",
              "          quickchartButtonEl.style.display =\n",
              "            google.colab.kernel.accessAllowed ? 'block' : 'none';\n",
              "        })();\n",
              "      </script>\n",
              "    </div>\n",
              "\n",
              "    </div>\n",
              "  </div>\n"
            ],
            "application/vnd.google.colaboratory.intrinsic+json": {
              "type": "dataframe",
              "variable_name": "joined_df"
            }
          },
          "metadata": {},
          "execution_count": 235
        }
      ],
      "source": [
        "joined_df.head()"
      ]
    },
    {
      "cell_type": "code",
      "execution_count": null,
      "id": "de84a0de",
      "metadata": {
        "colab": {
          "base_uri": "https://localhost:8080/"
        },
        "id": "de84a0de",
        "outputId": "07fcb542-7525-4b6e-885d-d7a20bf22eea"
      },
      "outputs": [
        {
          "output_type": "execute_result",
          "data": {
            "text/plain": [
              "(458177, 17)"
            ]
          },
          "metadata": {},
          "execution_count": 236
        }
      ],
      "source": [
        "joined_df.shape"
      ]
    },
    {
      "cell_type": "markdown",
      "id": "7997b638",
      "metadata": {
        "id": "7997b638"
      },
      "source": [
        "The dataframe consists of 458177 entries and 17 variables."
      ]
    },
    {
      "cell_type": "code",
      "execution_count": null,
      "id": "442ad1e8",
      "metadata": {
        "colab": {
          "base_uri": "https://localhost:8080/"
        },
        "id": "442ad1e8",
        "outputId": "aa6ca278-a0b4-43d7-99a4-a9f14e841154"
      },
      "outputs": [
        {
          "output_type": "stream",
          "name": "stdout",
          "text": [
            "<class 'pandas.core.frame.DataFrame'>\n",
            "RangeIndex: 458177 entries, 0 to 458176\n",
            "Data columns (total 17 columns):\n",
            " #   Column                          Dtype  \n",
            "---  ------                          -----  \n",
            " 0   id                              int64  \n",
            " 1   name                            object \n",
            " 2   host_id                         int64  \n",
            " 3   host_name                       object \n",
            " 4   neighbourhood_group             object \n",
            " 5   neighbourhood                   object \n",
            " 6   latitude                        float64\n",
            " 7   longitude                       float64\n",
            " 8   room_type                       object \n",
            " 9   price                           int64  \n",
            " 10  minimum_nights                  int64  \n",
            " 11  number_of_reviews               int64  \n",
            " 12  last_review                     object \n",
            " 13  reviews_per_month               float64\n",
            " 14  calculated_host_listings_count  int64  \n",
            " 15  availability_365                int64  \n",
            " 16  city                            object \n",
            "dtypes: float64(3), int64(7), object(7)\n",
            "memory usage: 59.4+ MB\n",
            "None\n"
          ]
        }
      ],
      "source": [
        "#Checking the data types of various variables in the dataframe.\n",
        "print(joined_df.info(show_counts=False))"
      ]
    },
    {
      "cell_type": "markdown",
      "id": "f1453594",
      "metadata": {
        "id": "f1453594"
      },
      "source": [
        "#### Checking the number of missing values for every column in joined df"
      ]
    },
    {
      "cell_type": "code",
      "execution_count": null,
      "id": "fad6eb82",
      "metadata": {
        "colab": {
          "base_uri": "https://localhost:8080/",
          "height": 580
        },
        "id": "fad6eb82",
        "outputId": "8a618c08-8131-4dea-cdfe-b459921932a2"
      },
      "outputs": [
        {
          "output_type": "display_data",
          "data": {
            "text/plain": [
              "<Figure size 1400x600 with 1 Axes>"
            ],
            "image/png": "[encoded data removed]"
          },
          "metadata": {}
        }
      ],
      "source": [
        "missing_counts = joined_df.isnull().sum()\n",
        "missing_df = pd.DataFrame({'column': missing_counts.index,\n",
        "                           'missing_percent': (missing_counts.values/len(joined_df))*100\n",
        "                           })\n",
        "missing_df = missing_df.sort_values(by='missing_percent', ascending=False)\n",
        "plt.figure(figsize=(14, 6))\n",
        "bars = plt.barh(missing_df['column'], missing_df['missing_percent'], color='blue')\n",
        "plt.ylim(-0.5, len(missing_df['column']) - 0.5)\n",
        "plt.xlabel('Percentage of sissing values')\n",
        "plt.title('Percentage of missing data by Column')\n",
        "plt.gca().invert_yaxis()\n",
        "plt.grid(axis='x', linestyle='--', alpha=0.7)\n",
        "for bar, percent in zip(bars, missing_df['missing_percent']):\n",
        "    plt.text(percent + 0.4, bar.get_y() + bar.get_height()/2,\n",
        "             f'{percent:.2f}%', va='center', fontsize=9)\n",
        "plt.tight_layout()\n",
        "plt.show()"
      ]
    },
    {
      "cell_type": "markdown",
      "id": "5039c7c4",
      "metadata": {
        "id": "5039c7c4"
      },
      "source": [
        "Neighbourhood_group variable has the highest number of missing values at 54.89% of the total entries for neighbourhood_group. Reviews_per_month and last_review both have 21.32% of missing values. host_name and name have 0.01% of missing values which is negligible."
      ]
    },
    {
      "cell_type": "code",
      "execution_count": null,
      "id": "cf3b80e3",
      "metadata": {
        "colab": {
          "base_uri": "https://localhost:8080/"
        },
        "id": "cf3b80e3",
        "outputId": "bd4faa3e-b26f-45ad-dfda-ce1e7286b2b7"
      },
      "outputs": [
        {
          "output_type": "execute_result",
          "data": {
            "text/plain": [
              "(458177, 16)"
            ]
          },
          "metadata": {},
          "execution_count": 239
        }
      ],
      "source": [
        "# Drop 'neighbourhood_group' from cleaned_df\n",
        "cleaned_df = joined_df.drop(columns=['neighbourhood_group'], errors='ignore')\n",
        "cleaned_df.shape"
      ]
    },
    {
      "cell_type": "markdown",
      "id": "8971ae88",
      "metadata": {
        "id": "8971ae88"
      },
      "source": [
        "The consequences of dropping missign values from the dataframe results to a reduction of the number of entries from 450,000 plus to 157742. What other ways do you suggest we consider?"
      ]
    },
    {
      "cell_type": "markdown",
      "source": [
        "Considered including ID, longitude and latitude however, we can exclude since they are not continuous and it isn't very meaningful to have their summary statistics"
      ],
      "metadata": {
        "id": "WLfvE1QGlAAs"
      },
      "id": "WLfvE1QGlAAs"
    },
    {
      "cell_type": "code",
      "source": [
        "# Checking for duplicates in the cleaned_df\n",
        "duplicate_rows = cleaned_df.duplicated().sum()\n",
        "print(f\"Number of duplicate rows: {duplicate_rows}\")"
      ],
      "metadata": {
        "colab": {
          "base_uri": "https://localhost:8080/"
        },
        "id": "cVWLRsX6gpmw",
        "outputId": "3d80be4b-2da7-4819-ce99-4131871b8eeb"
      },
      "id": "cVWLRsX6gpmw",
      "execution_count": null,
      "outputs": [
        {
          "output_type": "stream",
          "name": "stdout",
          "text": [
            "Number of duplicate rows: 290\n"
          ]
        }
      ]
    },
    {
      "cell_type": "markdown",
      "source": [
        "There are 290 duplicate rows in the data set"
      ],
      "metadata": {
        "id": "W3tBpAKglmo0"
      },
      "id": "W3tBpAKglmo0"
    },
    {
      "cell_type": "code",
      "source": [
        "# Removing duplicates\n",
        "cleaned_df = cleaned_df.drop_duplicates()"
      ],
      "metadata": {
        "id": "1vuZfmnw-zxR"
      },
      "id": "1vuZfmnw-zxR",
      "execution_count": null,
      "outputs": []
    },
    {
      "cell_type": "code",
      "source": [
        "# Summary statistics for numerical columns in the cleaned_df\n",
        "print(cleaned_df.select_dtypes(include=['number']).describe().T)"
      ],
      "metadata": {
        "colab": {
          "base_uri": "https://localhost:8080/"
        },
        "id": "kVNpqJ3NV0s-",
        "outputId": "84420e95-c68c-4804-9140-eeef39ef7e01"
      },
      "id": "kVNpqJ3NV0s-",
      "execution_count": null,
      "outputs": [
        {
          "output_type": "stream",
          "name": "stdout",
          "text": [
            "                                   count          mean           std  \\\n",
            "id                              457887.0  1.310373e+17  2.785723e+17   \n",
            "host_id                         457887.0  1.263664e+08  1.363076e+08   \n",
            "latitude                        457887.0  3.614498e+01  6.057847e+00   \n",
            "longitude                       457887.0 -1.007265e+02  2.328611e+01   \n",
            "price                           457887.0  2.398194e+02  8.325533e+02   \n",
            "minimum_nights                  457887.0  2.302277e+02  1.477817e+05   \n",
            "number_of_reviews               457887.0  3.777757e+01  7.282810e+01   \n",
            "reviews_per_month               360490.0  1.536516e+00  1.805348e+00   \n",
            "calculated_host_listings_count  457887.0  2.339092e+01  8.383689e+01   \n",
            "availability_365                457887.0  1.703980e+02  1.378415e+02   \n",
            "\n",
            "                                      min           25%           50%  \\\n",
            "id                                6.00000  1.908486e+07  3.455975e+07   \n",
            "host_id                          23.00000  1.800776e+07  6.990652e+07   \n",
            "latitude                         18.92099  3.375562e+01  3.626938e+01   \n",
            "longitude                      -159.71490 -1.183820e+02 -9.774861e+01   \n",
            "price                             0.00000  8.200000e+01  1.350000e+02   \n",
            "minimum_nights                    1.00000  1.000000e+00  3.000000e+00   \n",
            "number_of_reviews                 0.00000  1.000000e+00  8.000000e+00   \n",
            "reviews_per_month                 0.01000  2.700000e-01  9.400000e-01   \n",
            "calculated_host_listings_count    1.00000  1.000000e+00  2.000000e+00   \n",
            "availability_365                  0.00000  2.500000e+01  1.610000e+02   \n",
            "\n",
            "                                         75%           max  \n",
            "id                              4.929324e+07  8.581014e+17  \n",
            "host_id                         1.992035e+08  5.069384e+08  \n",
            "latitude                        4.072115e+01  4.773462e+01  \n",
            "longitude                      -7.700017e+01 -7.099595e+01  \n",
            "price                           2.290000e+02  1.000000e+05  \n",
            "minimum_nights                  2.900000e+01  1.000000e+08  \n",
            "number_of_reviews               4.100000e+01  3.091000e+03  \n",
            "reviews_per_month               2.250000e+00  1.014200e+02  \n",
            "calculated_host_listings_count  8.000000e+00  1.003000e+03  \n",
            "availability_365                3.160000e+02  3.650000e+02  \n"
          ]
        }
      ]
    },
    {
      "cell_type": "code",
      "source": [
        "# Combined check of data type, unique values and missingness per column\n",
        "print(\"Data Type, Unique Values, and Missingness\")\n",
        "data_summary = pd.DataFrame({\n",
        "    'dtype': cleaned_df.dtypes,\n",
        "    'unique_values': cleaned_df.nunique(),\n",
        "    'missing_percent': cleaned_df.isnull().mean() * 100\n",
        "}).sort_values(by='missing_percent', ascending=False)\n",
        "\n",
        "print(data_summary, \"\\n\")"
      ],
      "metadata": {
        "colab": {
          "base_uri": "https://localhost:8080/"
        },
        "id": "VHvxKuHGgwYV",
        "outputId": "8ef75e5a-4643-4853-9ef9-11d0c7c153e5"
      },
      "id": "VHvxKuHGgwYV",
      "execution_count": null,
      "outputs": [
        {
          "output_type": "stream",
          "name": "stdout",
          "text": [
            "Data Type, Unique Values, and Missingness\n",
            "                                  dtype  unique_values  missing_percent\n",
            "reviews_per_month               float64           1476        21.270969\n",
            "last_review                      object           5524        21.270969\n",
            "host_name                        object          42550         0.009828\n",
            "name                             object         375684         0.009609\n",
            "neighbourhood                    object           1459         0.000000\n",
            "latitude                        float64         244267         0.000000\n",
            "id                                int64         370252         0.000000\n",
            "host_id                           int64         188040         0.000000\n",
            "room_type                        object              4         0.000000\n",
            "longitude                       float64         250621         0.000000\n",
            "minimum_nights                    int64            202         0.000000\n",
            "price                             int64           2773         0.000000\n",
            "number_of_reviews                 int64            878         0.000000\n",
            "calculated_host_listings_count    int64            188         0.000000\n",
            "availability_365                  int64            366         0.000000\n",
            "city                             object             29         0.000000 \n",
            "\n"
          ]
        }
      ]
    },
    {
      "cell_type": "markdown",
      "source": [
        "review_per_month and last_review have the highest missingness at 21.261699 percent."
      ],
      "metadata": {
        "id": "D6TMxdaXl49O"
      },
      "id": "D6TMxdaXl49O"
    },
    {
      "cell_type": "code",
      "source": [
        "# Removing the NANs\n",
        "cleaned_df = cleaned_df.dropna(subset=['reviews_per_month', 'last_review'])"
      ],
      "metadata": {
        "id": "THGPjHRg_lt4"
      },
      "id": "THGPjHRg_lt4",
      "execution_count": null,
      "outputs": []
    },
    {
      "cell_type": "markdown",
      "source": [
        "The skewness results show that most numeric features in the dataset are highly right-skewed, particularly price, minimum_nights, and calculated_host_listings_count, indicating the presence of extreme high values or outliers, while availability_365 is nearly symmetric."
      ],
      "metadata": {
        "id": "uedih5bim6ew"
      },
      "id": "uedih5bim6ew"
    },
    {
      "cell_type": "markdown",
      "source": [
        "Logical Consistency checks"
      ],
      "metadata": {
        "id": "za34rCYBWOnC"
      },
      "id": "za34rCYBWOnC"
    },
    {
      "cell_type": "code",
      "source": [
        "# Checking for the logical consistency of the variables for reasonable ranges\n",
        "print(\"Logical Consistency Checks\")\n",
        "# Checking price validity\n",
        "if 'price' in cleaned_df.columns:\n",
        "    invalid_prices = cleaned_df[cleaned_df['price'] <= 0]\n",
        "    print(f\"Listings with invalid price values (<=0): {len(invalid_prices)}\")\n",
        "\n",
        "# Range checks for the other variables\n",
        "# Check ranges for numeric variables\n",
        "num_cols = cleaned_df.select_dtypes(include=['number']).drop(\n",
        "    columns=['id','price','host_id','latitude','longitude'], errors='ignore'\n",
        ")\n",
        "for col in num_cols.columns:\n",
        "    print(f\"{col} range: {num_cols[col].min()} - {num_cols[col].max()}\")\n"
      ],
      "metadata": {
        "colab": {
          "base_uri": "https://localhost:8080/"
        },
        "id": "1VQrQvhghtCX",
        "outputId": "256fba40-e344-4258-db8b-4c83f6dd2a4e"
      },
      "id": "1VQrQvhghtCX",
      "execution_count": null,
      "outputs": [
        {
          "output_type": "stream",
          "name": "stdout",
          "text": [
            "Logical Consistency Checks\n",
            "Listings with invalid price values (<=0): 67\n",
            "minimum_nights range: 1 - 100000000\n",
            "number_of_reviews range: 1 - 3091\n",
            "reviews_per_month range: 0.01 - 101.42\n",
            "calculated_host_listings_count range: 1 - 1003\n",
            "availability_365 range: 0 - 365\n"
          ]
        }
      ]
    },
    {
      "cell_type": "markdown",
      "source": [
        "The dataset is mostly logically consistent, with only 37 listings having invalid prices,other variables having a little bit of extreme values, and geographic coordinates falling within valid U.S. locations, their territories, and border territories."
      ],
      "metadata": {
        "id": "g1wNPnDooak5"
      },
      "id": "g1wNPnDooak5"
    },
    {
      "cell_type": "code",
      "source": [
        "# Remove invalid prices\n",
        "cleaned_df = cleaned_df[cleaned_df['price'] > 0].copy()\n",
        "# Verify\n",
        "invalid_prices = cleaned_df[cleaned_df['price'] <= 0]\n",
        "print(f\"Listings with invalid price values (<=0): {len(invalid_prices)}\")\n"
      ],
      "metadata": {
        "colab": {
          "base_uri": "https://localhost:8080/"
        },
        "id": "ukoYPRAG1Nlf",
        "outputId": "9fb0cd74-cbec-4d5a-d597-c01db06bad9c"
      },
      "id": "ukoYPRAG1Nlf",
      "execution_count": null,
      "outputs": [
        {
          "output_type": "stream",
          "name": "stdout",
          "text": [
            "Listings with invalid price values (<=0): 0\n"
          ]
        }
      ]
    },
    {
      "cell_type": "markdown",
      "source": [
        "Since it is not logical to have prices which are <= 0 we have removed that from the data set"
      ],
      "metadata": {
        "id": "Sw1H4h-52Gm9"
      },
      "id": "Sw1H4h-52Gm9"
    },
    {
      "cell_type": "markdown",
      "source": [
        "Skewness of Numeric Variables"
      ],
      "metadata": {
        "id": "n8AWWu5_XIiQ"
      },
      "id": "n8AWWu5_XIiQ"
    },
    {
      "cell_type": "code",
      "source": [
        "# Select numeric columns (exclude IDs and coordinates)\n",
        "num_cols = cleaned_df.select_dtypes(include=['number']).drop(columns=['id', 'host_id', 'longitude', 'latitude'], errors='ignore')\n",
        "# Compute skewness\n",
        "print(\"Skewness of Numeric Columns\")\n",
        "skew_values = num_cols.skew().sort_values(ascending=False)\n",
        "print(skew_values, \"\\n\")"
      ],
      "metadata": {
        "colab": {
          "base_uri": "https://localhost:8080/"
        },
        "id": "u2JdMmNrBjQk",
        "outputId": "1d4412ea-daf8-42e3-c5b1-7d5bfcb4ed44"
      },
      "id": "u2JdMmNrBjQk",
      "execution_count": null,
      "outputs": [
        {
          "output_type": "stream",
          "name": "stdout",
          "text": [
            "Skewness of Numeric Columns\n",
            "minimum_nights                    600.352377\n",
            "price                              87.502707\n",
            "calculated_host_listings_count     10.021990\n",
            "reviews_per_month                   4.808820\n",
            "number_of_reviews                   3.809847\n",
            "availability_365                    0.135572\n",
            "dtype: float64 \n",
            "\n"
          ]
        }
      ]
    },
    {
      "cell_type": "markdown",
      "source": [
        "The variables in the data set are right skewed with only availability_365 being symmetrical"
      ],
      "metadata": {
        "id": "x3nf2WYxXeBf"
      },
      "id": "x3nf2WYxXeBf"
    },
    {
      "cell_type": "markdown",
      "source": [
        "Correlation Analysis"
      ],
      "metadata": {
        "id": "MBUKEzZXXZgu"
      },
      "id": "MBUKEzZXXZgu"
    },
    {
      "cell_type": "code",
      "source": [
        "corr_matrix = num_cols.corr()\n",
        "display(corr_matrix.style.background_gradient(cmap='coolwarm').format(\"{:.2f}\"))"
      ],
      "metadata": {
        "colab": {
          "base_uri": "https://localhost:8080/",
          "height": 238
        },
        "id": "6pddwku0h_Ky",
        "outputId": "96d74292-a1a6-4a91-cfbf-34a079b844c3"
      },
      "id": "6pddwku0h_Ky",
      "execution_count": null,
      "outputs": [
        {
          "output_type": "display_data",
          "data": {
            "text/plain": [
              "<pandas.io.formats.style.Styler at 0x7d85d3df2630>"
            ],
            "text/html": [
              "<style type=\"text/css\">\n",
              "#T_a2244_row0_col0, #T_a2244_row1_col1, #T_a2244_row2_col2, #T_a2244_row3_col3, #T_a2244_row4_col4, #T_a2244_row5_col5 {\n",
              "  background-color: #b40426;\n",
              "  color: #f1f1f1;\n",
              "}\n",
              "#T_a2244_row0_col1, #T_a2244_row1_col5, #T_a2244_row2_col0, #T_a2244_row2_col1, #T_a2244_row2_col4, #T_a2244_row3_col0, #T_a2244_row3_col1, #T_a2244_row3_col4, #T_a2244_row4_col1, #T_a2244_row4_col2, #T_a2244_row4_col3, #T_a2244_row5_col1 {\n",
              "  background-color: #3b4cc0;\n",
              "  color: #f1f1f1;\n",
              "}\n",
              "#T_a2244_row0_col2, #T_a2244_row0_col3 {\n",
              "  background-color: #4a63d3;\n",
              "  color: #f1f1f1;\n",
              "}\n",
              "#T_a2244_row0_col4 {\n",
              "  background-color: #5a78e4;\n",
              "  color: #f1f1f1;\n",
              "}\n",
              "#T_a2244_row0_col5 {\n",
              "  background-color: #445acc;\n",
              "  color: #f1f1f1;\n",
              "}\n",
              "#T_a2244_row1_col0, #T_a2244_row2_col5 {\n",
              "  background-color: #4358cb;\n",
              "  color: #f1f1f1;\n",
              "}\n",
              "#T_a2244_row1_col2, #T_a2244_row1_col4 {\n",
              "  background-color: #5470de;\n",
              "  color: #f1f1f1;\n",
              "}\n",
              "#T_a2244_row1_col3 {\n",
              "  background-color: #536edd;\n",
              "  color: #f1f1f1;\n",
              "}\n",
              "#T_a2244_row2_col3, #T_a2244_row3_col2 {\n",
              "  background-color: #f7b396;\n",
              "  color: #000000;\n",
              "}\n",
              "#T_a2244_row3_col5, #T_a2244_row5_col0 {\n",
              "  background-color: #4c66d6;\n",
              "  color: #f1f1f1;\n",
              "}\n",
              "#T_a2244_row4_col0 {\n",
              "  background-color: #4961d2;\n",
              "  color: #f1f1f1;\n",
              "}\n",
              "#T_a2244_row4_col5 {\n",
              "  background-color: #6282ea;\n",
              "  color: #f1f1f1;\n",
              "}\n",
              "#T_a2244_row5_col2 {\n",
              "  background-color: #5b7ae5;\n",
              "  color: #f1f1f1;\n",
              "}\n",
              "#T_a2244_row5_col3 {\n",
              "  background-color: #6485ec;\n",
              "  color: #f1f1f1;\n",
              "}\n",
              "#T_a2244_row5_col4 {\n",
              "  background-color: #7b9ff9;\n",
              "  color: #f1f1f1;\n",
              "}\n",
              "</style>\n",
              "<table id=\"T_a2244\" class=\"dataframe\">\n",
              "  <thead>\n",
              "    <tr>\n",
              "      <th class=\"blank level0\" >&nbsp;</th>\n",
              "      <th id=\"T_a2244_level0_col0\" class=\"col_heading level0 col0\" >price</th>\n",
              "      <th id=\"T_a2244_level0_col1\" class=\"col_heading level0 col1\" >minimum_nights</th>\n",
              "      <th id=\"T_a2244_level0_col2\" class=\"col_heading level0 col2\" >number_of_reviews</th>\n",
              "      <th id=\"T_a2244_level0_col3\" class=\"col_heading level0 col3\" >reviews_per_month</th>\n",
              "      <th id=\"T_a2244_level0_col4\" class=\"col_heading level0 col4\" >calculated_host_listings_count</th>\n",
              "      <th id=\"T_a2244_level0_col5\" class=\"col_heading level0 col5\" >availability_365</th>\n",
              "    </tr>\n",
              "  </thead>\n",
              "  <tbody>\n",
              "    <tr>\n",
              "      <th id=\"T_a2244_level0_row0\" class=\"row_heading level0 row0\" >price</th>\n",
              "      <td id=\"T_a2244_row0_col0\" class=\"data row0 col0\" >1.00</td>\n",
              "      <td id=\"T_a2244_row0_col1\" class=\"data row0 col1\" >-0.00</td>\n",
              "      <td id=\"T_a2244_row0_col2\" class=\"data row0 col2\" >-0.03</td>\n",
              "      <td id=\"T_a2244_row0_col3\" class=\"data row0 col3\" >-0.03</td>\n",
              "      <td id=\"T_a2244_row0_col4\" class=\"data row0 col4\" >0.02</td>\n",
              "      <td id=\"T_a2244_row0_col5\" class=\"data row0 col5\" >0.03</td>\n",
              "    </tr>\n",
              "    <tr>\n",
              "      <th id=\"T_a2244_level0_row1\" class=\"row_heading level0 row1\" >minimum_nights</th>\n",
              "      <td id=\"T_a2244_row1_col0\" class=\"data row1 col0\" >-0.00</td>\n",
              "      <td id=\"T_a2244_row1_col1\" class=\"data row1 col1\" >1.00</td>\n",
              "      <td id=\"T_a2244_row1_col2\" class=\"data row1 col2\" >-0.00</td>\n",
              "      <td id=\"T_a2244_row1_col3\" class=\"data row1 col3\" >-0.00</td>\n",
              "      <td id=\"T_a2244_row1_col4\" class=\"data row1 col4\" >-0.00</td>\n",
              "      <td id=\"T_a2244_row1_col5\" class=\"data row1 col5\" >-0.00</td>\n",
              "    </tr>\n",
              "    <tr>\n",
              "      <th id=\"T_a2244_level0_row2\" class=\"row_heading level0 row2\" >number_of_reviews</th>\n",
              "      <td id=\"T_a2244_row2_col0\" class=\"data row2 col0\" >-0.03</td>\n",
              "      <td id=\"T_a2244_row2_col1\" class=\"data row2 col1\" >-0.00</td>\n",
              "      <td id=\"T_a2244_row2_col2\" class=\"data row2 col2\" >1.00</td>\n",
              "      <td id=\"T_a2244_row2_col3\" class=\"data row2 col3\" >0.65</td>\n",
              "      <td id=\"T_a2244_row2_col4\" class=\"data row2 col4\" >-0.09</td>\n",
              "      <td id=\"T_a2244_row2_col5\" class=\"data row2 col5\" >0.03</td>\n",
              "    </tr>\n",
              "    <tr>\n",
              "      <th id=\"T_a2244_level0_row3\" class=\"row_heading level0 row3\" >reviews_per_month</th>\n",
              "      <td id=\"T_a2244_row3_col0\" class=\"data row3 col0\" >-0.03</td>\n",
              "      <td id=\"T_a2244_row3_col1\" class=\"data row3 col1\" >-0.00</td>\n",
              "      <td id=\"T_a2244_row3_col2\" class=\"data row3 col2\" >0.65</td>\n",
              "      <td id=\"T_a2244_row3_col3\" class=\"data row3 col3\" >1.00</td>\n",
              "      <td id=\"T_a2244_row3_col4\" class=\"data row3 col4\" >-0.09</td>\n",
              "      <td id=\"T_a2244_row3_col5\" class=\"data row3 col5\" >0.06</td>\n",
              "    </tr>\n",
              "    <tr>\n",
              "      <th id=\"T_a2244_level0_row4\" class=\"row_heading level0 row4\" >calculated_host_listings_count</th>\n",
              "      <td id=\"T_a2244_row4_col0\" class=\"data row4 col0\" >0.02</td>\n",
              "      <td id=\"T_a2244_row4_col1\" class=\"data row4 col1\" >-0.00</td>\n",
              "      <td id=\"T_a2244_row4_col2\" class=\"data row4 col2\" >-0.09</td>\n",
              "      <td id=\"T_a2244_row4_col3\" class=\"data row4 col3\" >-0.09</td>\n",
              "      <td id=\"T_a2244_row4_col4\" class=\"data row4 col4\" >1.00</td>\n",
              "      <td id=\"T_a2244_row4_col5\" class=\"data row4 col5\" >0.13</td>\n",
              "    </tr>\n",
              "    <tr>\n",
              "      <th id=\"T_a2244_level0_row5\" class=\"row_heading level0 row5\" >availability_365</th>\n",
              "      <td id=\"T_a2244_row5_col0\" class=\"data row5 col0\" >0.03</td>\n",
              "      <td id=\"T_a2244_row5_col1\" class=\"data row5 col1\" >-0.00</td>\n",
              "      <td id=\"T_a2244_row5_col2\" class=\"data row5 col2\" >0.03</td>\n",
              "      <td id=\"T_a2244_row5_col3\" class=\"data row5 col3\" >0.06</td>\n",
              "      <td id=\"T_a2244_row5_col4\" class=\"data row5 col4\" >0.13</td>\n",
              "      <td id=\"T_a2244_row5_col5\" class=\"data row5 col5\" >1.00</td>\n",
              "    </tr>\n",
              "  </tbody>\n",
              "</table>\n"
            ]
          },
          "metadata": {}
        }
      ]
    },
    {
      "cell_type": "markdown",
      "source": [
        "Most numeric features are weakly correlated, with the only moderate relationship being between number_of_reviews and reviews_per_month, while all other variables vary largely and independently."
      ],
      "metadata": {
        "id": "tHy_4rL-o_ez"
      },
      "id": "tHy_4rL-o_ez"
    },
    {
      "cell_type": "markdown",
      "source": [
        "Outlier Detection and Removal using the Z-score Method and IQR"
      ],
      "metadata": {
        "id": "z-f7B7quYeAi"
      },
      "id": "z-f7B7quYeAi"
    },
    {
      "cell_type": "code",
      "source": [
        "# Outlier detection and removal using 2 methods IQR and Z-score\n",
        "# Select numeric columns (exclude IDs and coordinates)\n",
        "num_cols = cleaned_df.select_dtypes(include=['number']).drop(\n",
        "    columns=['id','host_id','latitude','longitude'], errors='ignore'\n",
        ")\n",
        "# Boxplot 1: After Z-score removal\n",
        "medians = num_cols.median()\n",
        "mad = num_cols.apply(lambda x: np.median(np.abs(x - np.median(x))), axis=0)\n",
        "mod_z_scores = 0.6745 * (num_cols - medians) / mad\n",
        "percentile = 0.99\n",
        "zscore_thresholds = mod_z_scores.abs().quantile(percentile)\n",
        "z_mask = (mod_z_scores.abs() <= zscore_thresholds).all(axis=1)\n",
        "cleaned_df_dynamic = cleaned_df.loc[z_mask].copy()\n",
        "print(f\"Shape after robust Z-score outlier removal: {cleaned_df_dynamic.shape}\")\n",
        "\n",
        "numeric_cols_dynamic = cleaned_df_dynamic.select_dtypes(include=['number']).drop(\n",
        "    columns=['id','host_id','latitude','longitude'], errors='ignore'\n",
        ")\n",
        "melted_z = numeric_cols_dynamic.melt(var_name='Variable', value_name='Value')\n",
        "plt.figure(figsize=(18,6))\n",
        "sns.boxplot(\n",
        "    x='Variable',\n",
        "    y='Value',\n",
        "    data=melted_z,\n",
        "    hue='Variable',\n",
        "    dodge=False,\n",
        "    palette='Set2',\n",
        "    showfliers=True\n",
        ")\n",
        "plt.legend([], [], frameon=False)\n",
        "plt.xticks(rotation=45)\n",
        "plt.title('Boxplots After Modified Z-score Outlier Removal')\n",
        "plt.tight_layout()\n",
        "plt.show()\n",
        "\n",
        "# Boxplot 2: After row-wise IQR filtering\n",
        "iqr_factor = 1.5\n",
        "iqr_mask = np.ones(len(cleaned_df_dynamic), dtype=bool)\n",
        "for col in numeric_cols_dynamic.columns:\n",
        "    Q1 = numeric_cols_dynamic[col].quantile(0.25)\n",
        "    Q3 = numeric_cols_dynamic[col].quantile(0.75)\n",
        "    IQR = Q3 - Q1\n",
        "    lower = Q1 - iqr_factor * IQR\n",
        "    upper = Q3 + iqr_factor * IQR\n",
        "    iqr_mask &= (numeric_cols_dynamic[col] >= lower) & (numeric_cols_dynamic[col] <= upper)\n",
        "cleaned_df_final = cleaned_df_dynamic.loc[iqr_mask].copy()\n",
        "print(f\"Final dataset shape after Modified Z-score + IQR filtering: {cleaned_df_final.shape}\")\n",
        "numeric_cols_final = cleaned_df_final.select_dtypes(include=['number']).drop(\n",
        "    columns=['id','host_id','latitude','longitude'], errors='ignore'\n",
        ")\n",
        "melted_iqr = numeric_cols_final.melt(var_name='Variable', value_name='Value')\n",
        "plt.figure(figsize=(18,6))\n",
        "sns.boxplot(\n",
        "    x='Variable',\n",
        "    y='Value',\n",
        "    data=melted_iqr,\n",
        "    hue='Variable',\n",
        "    dodge=False,\n",
        "    palette='Set2',\n",
        "    showfliers=True\n",
        ")\n",
        "plt.legend([], [], frameon=False)\n",
        "plt.xticks(rotation=45)\n",
        "plt.title('Boxplots After Row-wise IQR Filtering')\n",
        "plt.tight_layout()\n",
        "plt.show()"
      ],
      "metadata": {
        "colab": {
          "base_uri": "https://localhost:8080/",
          "height": 925
        },
        "id": "IBGtXhznc5Kj",
        "outputId": "b99faf7d-14b4-4837-fdb0-b5619336b1e3"
      },
      "id": "IBGtXhznc5Kj",
      "execution_count": null,
      "outputs": [
        {
          "output_type": "stream",
          "name": "stdout",
          "text": [
            "Shape after robust Z-score outlier removal: (343662, 16)\n"
          ]
        },
        {
          "output_type": "display_data",
          "data": {
            "text/plain": [
              "<Figure size 1800x600 with 1 Axes>"
            ],
            "image/png": "[encoded data removed]"
          },
          "metadata": {}
        },
        {
          "output_type": "stream",
          "name": "stdout",
          "text": [
            "Final dataset shape after Modified Z-score + IQR filtering: (181256, 16)\n"
          ]
        },
        {
          "output_type": "display_data",
          "data": {
            "text/plain": [
              "<Figure size 1800x600 with 1 Axes>"
            ],
            "image/png": "[encoded data removed]"
          },
          "metadata": {}
        }
      ]
    },
    {
      "cell_type": "markdown",
      "source": [
        "There are extreme outliers visible in the variables. Chose to use the modified Z-score method which will be a robust method to deal with the extreme outliers then afterwards use the IQR based methods to remove rows with moderate outliers"
      ],
      "metadata": {
        "id": "PNeGe5nJpG2L"
      },
      "id": "PNeGe5nJpG2L"
    },
    {
      "cell_type": "markdown",
      "source": [
        "Data Visualization"
      ],
      "metadata": {
        "id": "jQyz6YkKKzHI"
      },
      "id": "jQyz6YkKKzHI"
    },
    {
      "cell_type": "markdown",
      "source": [
        "Data Scaling and Feature engineering"
      ],
      "metadata": {
        "id": "kJlQ9B5BK5Di"
      },
      "id": "kJlQ9B5BK5Di"
    }
  ],
  "metadata": {
    "kernelspec": {
      "display_name": "base",
      "language": "python",
      "name": "python3"
    },
    "language_info": {
      "codemirror_mode": {
        "name": "ipython",
        "version": 3
      },
      "file_extension": ".py",
      "mimetype": "text/x-python",
      "name": "python",
      "nbconvert_exporter": "python",
      "pygments_lexer": "ipython3",
      "version": "3.13.5"
    },
    "colab": {
      "provenance": []
    }
  },
  "nbformat": 4,
  "nbformat_minor": 5
}