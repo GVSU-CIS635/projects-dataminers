{
  "cells": [
    {
      "cell_type": "markdown",
      "id": "db1b04c3",
      "metadata": {
        "id": "db1b04c3"
      },
      "source": [
        "## CIS 635 Project\n",
        "\n",
        "### Leveraging Data Mining to Understand and Predict Airbnb Listing Prices\n",
        "\n",
        "#### Loading required libraries"
      ]
    },
    {
      "cell_type": "code",
      "source": [],
      "metadata": {
        "id": "Ba0-tx_Xb0s9"
      },
      "id": "Ba0-tx_Xb0s9",
      "execution_count": 152,
      "outputs": []
    },
    {
      "cell_type": "code",
      "execution_count": 153,
      "id": "46999ddd",
      "metadata": {
        "id": "46999ddd"
      },
      "outputs": [],
      "source": [
        "import kagglehub\n",
        "import pandas as pd\n",
        "import numpy as np\n",
        "import os\n",
        "import matplotlib.pyplot as plt\n",
        "import seaborn as sns"
      ]
    },
    {
      "cell_type": "markdown",
      "id": "12f14210",
      "metadata": {
        "id": "12f14210"
      },
      "source": [
        "#### Downloading data from kaggle website\n",
        "\n",
        "The data we are using for this project is hosted in kaggle. [U.S. Airbnb Open Data](https://www.kaggle.com/datasets/kritikseth/us-airbnb-open-data)"
      ]
    },
    {
      "cell_type": "markdown",
      "id": "98993891",
      "metadata": {
        "id": "98993891"
      },
      "source": [
        "#### Downloading datasets in csv format"
      ]
    },
    {
      "cell_type": "code",
      "execution_count": 154,
      "id": "6fbc00c3",
      "metadata": {
        "id": "6fbc00c3",
        "colab": {
          "base_uri": "https://localhost:8080/"
        },
        "outputId": "9b0918c8-2f79-41fd-a3b3-3701f0b958a4"
      },
      "outputs": [
        {
          "output_type": "stream",
          "name": "stdout",
          "text": [
            "Using Colab cache for faster access to the 'us-airbnb-open-data' dataset.\n"
          ]
        }
      ],
      "source": [
        "#Path to the dataset\n",
        "path = kagglehub.dataset_download(\"kritikseth/us-airbnb-open-data\")\n"
      ]
    },
    {
      "cell_type": "code",
      "execution_count": 155,
      "id": "fab6d93d",
      "metadata": {
        "colab": {
          "base_uri": "https://localhost:8080/"
        },
        "id": "fab6d93d",
        "outputId": "6fa62fe3-1e43-415e-c368-e83f3b7a5f16"
      },
      "outputs": [
        {
          "output_type": "stream",
          "name": "stderr",
          "text": [
            "/tmp/ipython-input-798040142.py:5: DtypeWarning: Columns (4) have mixed types. Specify dtype option on import or set low_memory=False.\n",
            "  df1 = pd.read_csv(csv_path1)\n",
            "/tmp/ipython-input-798040142.py:6: DtypeWarning: Columns (4) have mixed types. Specify dtype option on import or set low_memory=False.\n",
            "  df2 = pd.read_csv(csv_path2)\n"
          ]
        },
        {
          "output_type": "stream",
          "name": "stdout",
          "text": [
            "                 id       host_id       latitude      longitude  \\\n",
            "count  2.260300e+05  2.260300e+05  226030.000000  226030.000000   \n",
            "mean   2.547176e+07  9.352385e+07      35.662829    -103.220662   \n",
            "std    1.317814e+07  9.827422e+07       6.849855      26.222091   \n",
            "min    1.090000e+02  2.300000e+01      18.920990    -159.714900   \n",
            "25%    1.515890e+07  1.399275e+07      32.761783    -118.598115   \n",
            "50%    2.590916e+07  5.138266e+07      37.261125     -97.817200   \n",
            "75%    3.772624e+07  1.497179e+08      40.724038     -76.919323   \n",
            "max    4.556085e+07  3.679176e+08      47.734620     -70.995950   \n",
            "\n",
            "               price  minimum_nights  number_of_reviews  reviews_per_month  \\\n",
            "count  226030.000000    2.260300e+05      226030.000000       177428.00000   \n",
            "mean      219.716529    4.525490e+02          34.506530            1.43145   \n",
            "std       570.353609    2.103376e+05          63.602914            1.68321   \n",
            "min         0.000000    1.000000e+00           0.000000            0.01000   \n",
            "25%        75.000000    1.000000e+00           1.000000            0.23000   \n",
            "50%       121.000000    2.000000e+00           8.000000            0.81000   \n",
            "75%       201.000000    7.000000e+00          39.000000            2.06000   \n",
            "max     24999.000000    1.000000e+08         966.000000           44.06000   \n",
            "\n",
            "       calculated_host_listings_count  availability_365  \n",
            "count                   226030.000000     226030.000000  \n",
            "mean                        16.698562        159.314856  \n",
            "std                         51.068966        140.179628  \n",
            "min                          1.000000          0.000000  \n",
            "25%                          1.000000          0.000000  \n",
            "50%                          2.000000        140.000000  \n",
            "75%                          6.000000        311.000000  \n",
            "max                        593.000000        365.000000  \n",
            "                 id       host_id       latitude      longitude  \\\n",
            "count  2.321470e+05  2.321470e+05  232147.000000  232147.000000   \n",
            "mean   2.584580e+17  1.582248e+08      36.610585     -98.301436   \n",
            "std    3.465985e+17  1.587164e+08       5.126523      19.706929   \n",
            "min    6.000000e+00  2.300000e+01      25.957323    -123.089130   \n",
            "25%    2.638896e+07  2.299242e+07      33.976225    -118.315111   \n",
            "50%    4.896307e+07  1.005783e+08      36.190556     -97.727670   \n",
            "75%    6.633014e+17  2.686930e+08      40.717440     -77.026222   \n",
            "max    8.581014e+17  5.069384e+08      47.734010     -70.996000   \n",
            "\n",
            "               price  minimum_nights  number_of_reviews  reviews_per_month  \\\n",
            "count  232147.000000   232147.000000      232147.000000      183062.000000   \n",
            "mean      259.468001       13.495867          40.915230           1.638348   \n",
            "std      1024.645918       27.920631          80.649152           1.910812   \n",
            "min         0.000000        1.000000           0.000000           0.010000   \n",
            "25%        91.000000        2.000000           1.000000           0.310000   \n",
            "50%       149.000000        3.000000           9.000000           1.000000   \n",
            "75%       250.000000       30.000000          43.000000           2.420000   \n",
            "max    100000.000000     1250.000000        3091.000000         101.420000   \n",
            "\n",
            "       calculated_host_listings_count  availability_365  number_of_reviews_ltm  \n",
            "count                   232147.000000     232147.000000          232147.000000  \n",
            "mean                        29.879055        180.985686              11.689701  \n",
            "std                        106.013665        134.715299              20.599954  \n",
            "min                          1.000000          0.000000               0.000000  \n",
            "25%                          1.000000         52.000000               0.000000  \n",
            "50%                          2.000000        175.000000               3.000000  \n",
            "75%                         10.000000        321.000000              16.000000  \n",
            "max                       1003.000000        365.000000            1314.000000  \n"
          ]
        }
      ],
      "source": [
        "#Connecting to files in path\n",
        "csv_path1 = os.path.join(path, \"AB_US_2020.csv\")\n",
        "csv_path2 = os.path.join(path, \"AB_US_2023.csv\")\n",
        "#Load the data from CSV files\n",
        "df1 = pd.read_csv(csv_path1)\n",
        "df2 = pd.read_csv(csv_path2)\n",
        "#Previewing the two datasets\n",
        "print(df1.describe())\n",
        "print(df2.describe())"
      ]
    },
    {
      "cell_type": "code",
      "execution_count": 156,
      "id": "7f55d5f9",
      "metadata": {
        "colab": {
          "base_uri": "https://localhost:8080/"
        },
        "id": "7f55d5f9",
        "outputId": "4e282d04-ac42-4e79-d484-e7df483b3b4c"
      },
      "outputs": [
        {
          "output_type": "stream",
          "name": "stdout",
          "text": [
            "Columns in df1 = 17\n",
            "Columns in df2 = 18\n"
          ]
        }
      ],
      "source": [
        "#checking the length of columns in df1 and df2\n",
        "print(f'Columns in df1 = {len(df1.columns)}')\n",
        "print(f'Columns in df2 = {len(df2.columns)}')"
      ]
    },
    {
      "cell_type": "code",
      "execution_count": 157,
      "id": "838ae4cd",
      "metadata": {
        "colab": {
          "base_uri": "https://localhost:8080/"
        },
        "id": "838ae4cd",
        "outputId": "4ee381cc-232c-4940-ce07-e7ff79540525"
      },
      "outputs": [
        {
          "output_type": "stream",
          "name": "stdout",
          "text": [
            "Common columns: {'longitude', 'host_name', 'name', 'neighbourhood_group', 'price', 'last_review', 'reviews_per_month', 'neighbourhood', 'minimum_nights', 'id', 'latitude', 'number_of_reviews', 'city', 'calculated_host_listings_count', 'host_id', 'availability_365', 'room_type'}\n",
            "Columns unique to df2: {'number_of_reviews_ltm'}\n"
          ]
        }
      ],
      "source": [
        "#Selecting columns common in both df1 and df2 before concatenating the dataframes\n",
        "df1_cols = set(df1.columns)\n",
        "df2_cols = set(df2.columns)\n",
        "\n",
        "#Common columns\n",
        "common = df1_cols & df2_cols\n",
        "unique_to_df2 = df2_cols - df1_cols\n",
        "print(\"Common columns:\", common)\n",
        "print(\"Columns unique to df2:\", unique_to_df2)"
      ]
    },
    {
      "cell_type": "code",
      "execution_count": 158,
      "id": "418f0805",
      "metadata": {
        "colab": {
          "base_uri": "https://localhost:8080/"
        },
        "id": "418f0805",
        "outputId": "68f14135-ddf7-4186-f187-a06419b82b34"
      },
      "outputs": [
        {
          "output_type": "stream",
          "name": "stdout",
          "text": [
            "\n",
            "Columns unique to df1: set()\n",
            "\n",
            "Columns unique to df2: {'number_of_reviews_ltm'}\n"
          ]
        }
      ],
      "source": [
        "# Finding unique columns in df1 (columns that are in df1 but not in df2)\n",
        "unique_df1 = df1_cols - df2_cols\n",
        "print(\"\\nColumns unique to df1:\", unique_df1)\n",
        "# Finding unique columns in df2 (columns that are in df2 but not in df1)\n",
        "unique_df2 = df2_cols - df1_cols\n",
        "print(\"\\nColumns unique to df2:\", unique_df2)"
      ]
    },
    {
      "cell_type": "code",
      "execution_count": 159,
      "id": "8f3d5b96",
      "metadata": {
        "colab": {
          "base_uri": "https://localhost:8080/"
        },
        "id": "8f3d5b96",
        "outputId": "7552602f-0955-4dfe-f393-a4796af85051"
      },
      "outputs": [
        {
          "output_type": "execute_result",
          "data": {
            "text/plain": [
              "17"
            ]
          },
          "metadata": {},
          "execution_count": 159
        }
      ],
      "source": [
        "#selecting only common columns in df2 to merge df1.\n",
        "df2 = df2[list(common)]\n",
        "len(df2.columns)"
      ]
    },
    {
      "cell_type": "code",
      "execution_count": 160,
      "id": "30bd9182",
      "metadata": {
        "id": "30bd9182"
      },
      "outputs": [],
      "source": [
        "#concatenating df1 and df2\n",
        "joined_df = pd.concat([df1, df2], axis=0, ignore_index=True)\n",
        "merged_df = joined_df.copy()"
      ]
    },
    {
      "cell_type": "code",
      "execution_count": 161,
      "id": "6c07f971",
      "metadata": {
        "colab": {
          "base_uri": "https://localhost:8080/",
          "height": 348
        },
        "id": "6c07f971",
        "outputId": "52e420bd-2098-411d-8415-4b7ed953d3b6"
      },
      "outputs": [
        {
          "output_type": "execute_result",
          "data": {
            "text/plain": [
              "       id                                               name  host_id  \\\n",
              "0   38585    Charming Victorian home - twin beds + breakfast   165529   \n",
              "1   80905                                   French Chic Loft   427027   \n",
              "2  108061  Walk to stores/parks/downtown. Fenced yard/Pet...   320564   \n",
              "3  155305                 Cottage! BonPaul + Sharky's Hostel   746673   \n",
              "4  160594                                Historic Grove Park   769252   \n",
              "\n",
              "   host_name neighbourhood_group neighbourhood  latitude  longitude  \\\n",
              "0    Evelyne                 NaN         28804  35.65146  -82.62792   \n",
              "1    Celeste                 NaN         28801  35.59779  -82.55540   \n",
              "2       Lisa                 NaN         28801  35.60670  -82.55563   \n",
              "3    BonPaul                 NaN         28806  35.57864  -82.59578   \n",
              "4  Elizabeth                 NaN         28801  35.61442  -82.54127   \n",
              "\n",
              "         room_type  price  minimum_nights  number_of_reviews last_review  \\\n",
              "0     Private room     60               1                138    16/02/20   \n",
              "1  Entire home/apt    470               1                114    07/09/20   \n",
              "2  Entire home/apt     75              30                 89    30/11/19   \n",
              "3  Entire home/apt     90               1                267    22/09/20   \n",
              "4     Private room    125              30                 58    19/10/15   \n",
              "\n",
              "   reviews_per_month  calculated_host_listings_count  availability_365  \\\n",
              "0               1.14                               1                 0   \n",
              "1               1.03                              11               288   \n",
              "2               0.81                               2               298   \n",
              "3               2.39                               5                 0   \n",
              "4               0.52                               1                 0   \n",
              "\n",
              "        city  \n",
              "0  Asheville  \n",
              "1  Asheville  \n",
              "2  Asheville  \n",
              "3  Asheville  \n",
              "4  Asheville  "
            ],
            "text/html": [
              "\n",
              "  <div id=\"df-d6918788-11b4-4cf8-b2d1-f01dc06b7d93\" class=\"colab-df-container\">\n",
              "    <div>\n",
              "<style scoped>\n",
              "    .dataframe tbody tr th:only-of-type {\n",
              "        vertical-align: middle;\n",
              "    }\n",
              "\n",
              "    .dataframe tbody tr th {\n",
              "        vertical-align: top;\n",
              "    }\n",
              "\n",
              "    .dataframe thead th {\n",
              "        text-align: right;\n",
              "    }\n",
              "</style>\n",
              "<table border=\"1\" class=\"dataframe\">\n",
              "  <thead>\n",
              "    <tr style=\"text-align: right;\">\n",
              "      <th></th>\n",
              "      <th>id</th>\n",
              "      <th>name</th>\n",
              "      <th>host_id</th>\n",
              "      <th>host_name</th>\n",
              "      <th>neighbourhood_group</th>\n",
              "      <th>neighbourhood</th>\n",
              "      <th>latitude</th>\n",
              "      <th>longitude</th>\n",
              "      <th>room_type</th>\n",
              "      <th>price</th>\n",
              "      <th>minimum_nights</th>\n",
              "      <th>number_of_reviews</th>\n",
              "      <th>last_review</th>\n",
              "      <th>reviews_per_month</th>\n",
              "      <th>calculated_host_listings_count</th>\n",
              "      <th>availability_365</th>\n",
              "      <th>city</th>\n",
              "    </tr>\n",
              "  </thead>\n",
              "  <tbody>\n",
              "    <tr>\n",
              "      <th>0</th>\n",
              "      <td>38585</td>\n",
              "      <td>Charming Victorian home - twin beds + breakfast</td>\n",
              "      <td>165529</td>\n",
              "      <td>Evelyne</td>\n",
              "      <td>NaN</td>\n",
              "      <td>28804</td>\n",
              "      <td>35.65146</td>\n",
              "      <td>-82.62792</td>\n",
              "      <td>Private room</td>\n",
              "      <td>60</td>\n",
              "      <td>1</td>\n",
              "      <td>138</td>\n",
              "      <td>16/02/20</td>\n",
              "      <td>1.14</td>\n",
              "      <td>1</td>\n",
              "      <td>0</td>\n",
              "      <td>Asheville</td>\n",
              "    </tr>\n",
              "    <tr>\n",
              "      <th>1</th>\n",
              "      <td>80905</td>\n",
              "      <td>French Chic Loft</td>\n",
              "      <td>427027</td>\n",
              "      <td>Celeste</td>\n",
              "      <td>NaN</td>\n",
              "      <td>28801</td>\n",
              "      <td>35.59779</td>\n",
              "      <td>-82.55540</td>\n",
              "      <td>Entire home/apt</td>\n",
              "      <td>470</td>\n",
              "      <td>1</td>\n",
              "      <td>114</td>\n",
              "      <td>07/09/20</td>\n",
              "      <td>1.03</td>\n",
              "      <td>11</td>\n",
              "      <td>288</td>\n",
              "      <td>Asheville</td>\n",
              "    </tr>\n",
              "    <tr>\n",
              "      <th>2</th>\n",
              "      <td>108061</td>\n",
              "      <td>Walk to stores/parks/downtown. Fenced yard/Pet...</td>\n",
              "      <td>320564</td>\n",
              "      <td>Lisa</td>\n",
              "      <td>NaN</td>\n",
              "      <td>28801</td>\n",
              "      <td>35.60670</td>\n",
              "      <td>-82.55563</td>\n",
              "      <td>Entire home/apt</td>\n",
              "      <td>75</td>\n",
              "      <td>30</td>\n",
              "      <td>89</td>\n",
              "      <td>30/11/19</td>\n",
              "      <td>0.81</td>\n",
              "      <td>2</td>\n",
              "      <td>298</td>\n",
              "      <td>Asheville</td>\n",
              "    </tr>\n",
              "    <tr>\n",
              "      <th>3</th>\n",
              "      <td>155305</td>\n",
              "      <td>Cottage! BonPaul + Sharky's Hostel</td>\n",
              "      <td>746673</td>\n",
              "      <td>BonPaul</td>\n",
              "      <td>NaN</td>\n",
              "      <td>28806</td>\n",
              "      <td>35.57864</td>\n",
              "      <td>-82.59578</td>\n",
              "      <td>Entire home/apt</td>\n",
              "      <td>90</td>\n",
              "      <td>1</td>\n",
              "      <td>267</td>\n",
              "      <td>22/09/20</td>\n",
              "      <td>2.39</td>\n",
              "      <td>5</td>\n",
              "      <td>0</td>\n",
              "      <td>Asheville</td>\n",
              "    </tr>\n",
              "    <tr>\n",
              "      <th>4</th>\n",
              "      <td>160594</td>\n",
              "      <td>Historic Grove Park</td>\n",
              "      <td>769252</td>\n",
              "      <td>Elizabeth</td>\n",
              "      <td>NaN</td>\n",
              "      <td>28801</td>\n",
              "      <td>35.61442</td>\n",
              "      <td>-82.54127</td>\n",
              "      <td>Private room</td>\n",
              "      <td>125</td>\n",
              "      <td>30</td>\n",
              "      <td>58</td>\n",
              "      <td>19/10/15</td>\n",
              "      <td>0.52</td>\n",
              "      <td>1</td>\n",
              "      <td>0</td>\n",
              "      <td>Asheville</td>\n",
              "    </tr>\n",
              "  </tbody>\n",
              "</table>\n",
              "</div>\n",
              "    <div class=\"colab-df-buttons\">\n",
              "\n",
              "  <div class=\"colab-df-container\">\n",
              "    <button class=\"colab-df-convert\" onclick=\"convertToInteractive('df-d6918788-11b4-4cf8-b2d1-f01dc06b7d93')\"\n",
              "            title=\"Convert this dataframe to an interactive table.\"\n",
              "            style=\"display:none;\">\n",
              "\n",
              "  <svg xmlns=\"http://www.w3.org/2000/svg\" height=\"24px\" viewBox=\"0 -960 960 960\">\n",
              "    <path d=\"M120-120v-720h720v720H120Zm60-500h600v-160H180v160Zm220 220h160v-160H400v160Zm0 220h160v-160H400v160ZM180-400h160v-160H180v160Zm440 0h160v-160H620v160ZM180-180h160v-160H180v160Zm440 0h160v-160H620v160Z\"/>\n",
              "  </svg>\n",
              "    </button>\n",
              "\n",
              "  <style>\n",
              "    .colab-df-container {\n",
              "      display:flex;\n",
              "      gap: 12px;\n",
              "    }\n",
              "\n",
              "    .colab-df-convert {\n",
              "      background-color: #E8F0FE;\n",
              "      border: none;\n",
              "      border-radius: 50%;\n",
              "      cursor: pointer;\n",
              "      display: none;\n",
              "      fill: #1967D2;\n",
              "      height: 32px;\n",
              "      padding: 0 0 0 0;\n",
              "      width: 32px;\n",
              "    }\n",
              "\n",
              "    .colab-df-convert:hover {\n",
              "      background-color: #E2EBFA;\n",
              "      box-shadow: 0px 1px 2px rgba(60, 64, 67, 0.3), 0px 1px 3px 1px rgba(60, 64, 67, 0.15);\n",
              "      fill: #174EA6;\n",
              "    }\n",
              "\n",
              "    .colab-df-buttons div {\n",
              "      margin-bottom: 4px;\n",
              "    }\n",
              "\n",
              "    [theme=dark] .colab-df-convert {\n",
              "      background-color: #3B4455;\n",
              "      fill: #D2E3FC;\n",
              "    }\n",
              "\n",
              "    [theme=dark] .colab-df-convert:hover {\n",
              "      background-color: #434B5C;\n",
              "      box-shadow: 0px 1px 3px 1px rgba(0, 0, 0, 0.15);\n",
              "      filter: drop-shadow(0px 1px 2px rgba(0, 0, 0, 0.3));\n",
              "      fill: #FFFFFF;\n",
              "    }\n",
              "  </style>\n",
              "\n",
              "    <script>\n",
              "      const buttonEl =\n",
              "        document.querySelector('#df-d6918788-11b4-4cf8-b2d1-f01dc06b7d93 button.colab-df-convert');\n",
              "      buttonEl.style.display =\n",
              "        google.colab.kernel.accessAllowed ? 'block' : 'none';\n",
              "\n",
              "      async function convertToInteractive(key) {\n",
              "        const element = document.querySelector('#df-d6918788-11b4-4cf8-b2d1-f01dc06b7d93');\n",
              "        const dataTable =\n",
              "          await google.colab.kernel.invokeFunction('convertToInteractive',\n",
              "                                                    [key], {});\n",
              "        if (!dataTable) return;\n",
              "\n",
              "        const docLinkHtml = 'Like what you see? Visit the ' +\n",
              "          '<a target=\"_blank\" href=https://colab.research.google.com/notebooks/data_table.ipynb>data table notebook</a>'\n",
              "          + ' to learn more about interactive tables.';\n",
              "        element.innerHTML = '';\n",
              "        dataTable['output_type'] = 'display_data';\n",
              "        await google.colab.output.renderOutput(dataTable, element);\n",
              "        const docLink = document.createElement('div');\n",
              "        docLink.innerHTML = docLinkHtml;\n",
              "        element.appendChild(docLink);\n",
              "      }\n",
              "    </script>\n",
              "  </div>\n",
              "\n",
              "\n",
              "    <div id=\"df-f41dd331-6700-4577-bc80-4e39d2cf207a\">\n",
              "      <button class=\"colab-df-quickchart\" onclick=\"quickchart('df-f41dd331-6700-4577-bc80-4e39d2cf207a')\"\n",
              "                title=\"Suggest charts\"\n",
              "                style=\"display:none;\">\n",
              "\n",
              "<svg xmlns=\"http://www.w3.org/2000/svg\" height=\"24px\"viewBox=\"0 0 24 24\"\n",
              "     width=\"24px\">\n",
              "    <g>\n",
              "        <path d=\"M19 3H5c-1.1 0-2 .9-2 2v14c0 1.1.9 2 2 2h14c1.1 0 2-.9 2-2V5c0-1.1-.9-2-2-2zM9 17H7v-7h2v7zm4 0h-2V7h2v10zm4 0h-2v-4h2v4z\"/>\n",
              "    </g>\n",
              "</svg>\n",
              "      </button>\n",
              "\n",
              "<style>\n",
              "  .colab-df-quickchart {\n",
              "      --bg-color: #E8F0FE;\n",
              "      --fill-color: #1967D2;\n",
              "      --hover-bg-color: #E2EBFA;\n",
              "      --hover-fill-color: #174EA6;\n",
              "      --disabled-fill-color: #AAA;\n",
              "      --disabled-bg-color: #DDD;\n",
              "  }\n",
              "\n",
              "  [theme=dark] .colab-df-quickchart {\n",
              "      --bg-color: #3B4455;\n",
              "      --fill-color: #D2E3FC;\n",
              "      --hover-bg-color: #434B5C;\n",
              "      --hover-fill-color: #FFFFFF;\n",
              "      --disabled-bg-color: #3B4455;\n",
              "      --disabled-fill-color: #666;\n",
              "  }\n",
              "\n",
              "  .colab-df-quickchart {\n",
              "    background-color: var(--bg-color);\n",
              "    border: none;\n",
              "    border-radius: 50%;\n",
              "    cursor: pointer;\n",
              "    display: none;\n",
              "    fill: var(--fill-color);\n",
              "    height: 32px;\n",
              "    padding: 0;\n",
              "    width: 32px;\n",
              "  }\n",
              "\n",
              "  .colab-df-quickchart:hover {\n",
              "    background-color: var(--hover-bg-color);\n",
              "    box-shadow: 0 1px 2px rgba(60, 64, 67, 0.3), 0 1px 3px 1px rgba(60, 64, 67, 0.15);\n",
              "    fill: var(--button-hover-fill-color);\n",
              "  }\n",
              "\n",
              "  .colab-df-quickchart-complete:disabled,\n",
              "  .colab-df-quickchart-complete:disabled:hover {\n",
              "    background-color: var(--disabled-bg-color);\n",
              "    fill: var(--disabled-fill-color);\n",
              "    box-shadow: none;\n",
              "  }\n",
              "\n",
              "  .colab-df-spinner {\n",
              "    border: 2px solid var(--fill-color);\n",
              "    border-color: transparent;\n",
              "    border-bottom-color: var(--fill-color);\n",
              "    animation:\n",
              "      spin 1s steps(1) infinite;\n",
              "  }\n",
              "\n",
              "  @keyframes spin {\n",
              "    0% {\n",
              "      border-color: transparent;\n",
              "      border-bottom-color: var(--fill-color);\n",
              "      border-left-color: var(--fill-color);\n",
              "    }\n",
              "    20% {\n",
              "      border-color: transparent;\n",
              "      border-left-color: var(--fill-color);\n",
              "      border-top-color: var(--fill-color);\n",
              "    }\n",
              "    30% {\n",
              "      border-color: transparent;\n",
              "      border-left-color: var(--fill-color);\n",
              "      border-top-color: var(--fill-color);\n",
              "      border-right-color: var(--fill-color);\n",
              "    }\n",
              "    40% {\n",
              "      border-color: transparent;\n",
              "      border-right-color: var(--fill-color);\n",
              "      border-top-color: var(--fill-color);\n",
              "    }\n",
              "    60% {\n",
              "      border-color: transparent;\n",
              "      border-right-color: var(--fill-color);\n",
              "    }\n",
              "    80% {\n",
              "      border-color: transparent;\n",
              "      border-right-color: var(--fill-color);\n",
              "      border-bottom-color: var(--fill-color);\n",
              "    }\n",
              "    90% {\n",
              "      border-color: transparent;\n",
              "      border-bottom-color: var(--fill-color);\n",
              "    }\n",
              "  }\n",
              "</style>\n",
              "\n",
              "      <script>\n",
              "        async function quickchart(key) {\n",
              "          const quickchartButtonEl =\n",
              "            document.querySelector('#' + key + ' button');\n",
              "          quickchartButtonEl.disabled = true;  // To prevent multiple clicks.\n",
              "          quickchartButtonEl.classList.add('colab-df-spinner');\n",
              "          try {\n",
              "            const charts = await google.colab.kernel.invokeFunction(\n",
              "                'suggestCharts', [key], {});\n",
              "          } catch (error) {\n",
              "            console.error('Error during call to suggestCharts:', error);\n",
              "          }\n",
              "          quickchartButtonEl.classList.remove('colab-df-spinner');\n",
              "          quickchartButtonEl.classList.add('colab-df-quickchart-complete');\n",
              "        }\n",
              "        (() => {\n",
              "          let quickchartButtonEl =\n",
              "            document.querySelector('#df-f41dd331-6700-4577-bc80-4e39d2cf207a button');\n",
              "          quickchartButtonEl.style.display =\n",
              "            google.colab.kernel.accessAllowed ? 'block' : 'none';\n",
              "        })();\n",
              "      </script>\n",
              "    </div>\n",
              "\n",
              "    </div>\n",
              "  </div>\n"
            ],
            "application/vnd.google.colaboratory.intrinsic+json": {
              "type": "dataframe",
              "variable_name": "joined_df"
            }
          },
          "metadata": {},
          "execution_count": 161
        }
      ],
      "source": [
        "joined_df.head()"
      ]
    },
    {
      "cell_type": "code",
      "execution_count": 162,
      "id": "de84a0de",
      "metadata": {
        "colab": {
          "base_uri": "https://localhost:8080/"
        },
        "id": "de84a0de",
        "outputId": "270d0e56-d627-4b0a-87bd-8c1e95c457be"
      },
      "outputs": [
        {
          "output_type": "execute_result",
          "data": {
            "text/plain": [
              "(458177, 17)"
            ]
          },
          "metadata": {},
          "execution_count": 162
        }
      ],
      "source": [
        "joined_df.shape"
      ]
    },
    {
      "cell_type": "markdown",
      "id": "7997b638",
      "metadata": {
        "id": "7997b638"
      },
      "source": [
        "The dataframe consists of 458177 entries and 17 variables."
      ]
    },
    {
      "cell_type": "code",
      "execution_count": 163,
      "id": "442ad1e8",
      "metadata": {
        "colab": {
          "base_uri": "https://localhost:8080/"
        },
        "id": "442ad1e8",
        "outputId": "00092efa-0252-43ff-c044-c4b2b4d5510c"
      },
      "outputs": [
        {
          "output_type": "stream",
          "name": "stdout",
          "text": [
            "<class 'pandas.core.frame.DataFrame'>\n",
            "RangeIndex: 458177 entries, 0 to 458176\n",
            "Data columns (total 17 columns):\n",
            " #   Column                          Dtype  \n",
            "---  ------                          -----  \n",
            " 0   id                              int64  \n",
            " 1   name                            object \n",
            " 2   host_id                         int64  \n",
            " 3   host_name                       object \n",
            " 4   neighbourhood_group             object \n",
            " 5   neighbourhood                   object \n",
            " 6   latitude                        float64\n",
            " 7   longitude                       float64\n",
            " 8   room_type                       object \n",
            " 9   price                           int64  \n",
            " 10  minimum_nights                  int64  \n",
            " 11  number_of_reviews               int64  \n",
            " 12  last_review                     object \n",
            " 13  reviews_per_month               float64\n",
            " 14  calculated_host_listings_count  int64  \n",
            " 15  availability_365                int64  \n",
            " 16  city                            object \n",
            "dtypes: float64(3), int64(7), object(7)\n",
            "memory usage: 59.4+ MB\n",
            "None\n"
          ]
        }
      ],
      "source": [
        "#Checking the data types of various variables in the dataframe.\n",
        "print(joined_df.info(show_counts=False))"
      ]
    },
    {
      "cell_type": "markdown",
      "id": "f1453594",
      "metadata": {
        "id": "f1453594"
      },
      "source": [
        "#### Checking the number of missing values for every column in joined df"
      ]
    },
    {
      "cell_type": "code",
      "execution_count": 164,
      "id": "fad6eb82",
      "metadata": {
        "colab": {
          "base_uri": "https://localhost:8080/",
          "height": 317
        },
        "id": "fad6eb82",
        "outputId": "73ff5d10-b6bc-4d6b-c186-a6d535a53fd9"
      },
      "outputs": [
        {
          "output_type": "display_data",
          "data": {
            "text/plain": [
              "<Figure size 1400x600 with 1 Axes>"
            ],
            "image/png": "[encoded data removed]"
          },
          "metadata": {}
        }
      ],
      "source": [
        "missing_counts = joined_df.isnull().sum()\n",
        "missing_df = pd.DataFrame({'column': missing_counts.index,\n",
        "                           'missing_percent': (missing_counts.values/len(joined_df))*100\n",
        "                           })\n",
        "missing_df = missing_df.sort_values(by='missing_percent', ascending=False)\n",
        "plt.figure(figsize=(14, 6))\n",
        "bars = plt.barh(missing_df['column'], missing_df['missing_percent'], color='blue')\n",
        "plt.ylim(-0.5, len(missing_df['column']) - 0.5)\n",
        "plt.xlabel('Percentage of sissing values')\n",
        "plt.title('Percentage of missing data by Column')\n",
        "plt.gca().invert_yaxis()\n",
        "plt.grid(axis='x', linestyle='--', alpha=0.7)\n",
        "for bar, percent in zip(bars, missing_df['missing_percent']):\n",
        "    plt.text(percent + 0.4, bar.get_y() + bar.get_height()/2,\n",
        "             f'{percent:.2f}%', va='center', fontsize=9)\n",
        "plt.tight_layout()\n",
        "plt.show()"
      ]
    },
    {
      "cell_type": "markdown",
      "id": "5039c7c4",
      "metadata": {
        "id": "5039c7c4"
      },
      "source": [
        "Neighbourhood_group variable has the highest number of missing values at 54.89% of the total entries for neighbourhood_group. Reviews_per_month and last_review both have 21.32% of missing values. host_name and name have 0.01% of missing values which is negligible."
      ]
    },
    {
      "cell_type": "code",
      "execution_count": 165,
      "id": "cf3b80e3",
      "metadata": {
        "colab": {
          "base_uri": "https://localhost:8080/"
        },
        "id": "cf3b80e3",
        "outputId": "9445ef45-ff32-4f41-8bd7-0b9f8edc26b5"
      },
      "outputs": [
        {
          "output_type": "execute_result",
          "data": {
            "text/plain": [
              "(157742, 17)"
            ]
          },
          "metadata": {},
          "execution_count": 165
        }
      ],
      "source": [
        "cleaned_df = joined_df.dropna()\n",
        "cleaned_df.shape"
      ]
    },
    {
      "cell_type": "markdown",
      "id": "8971ae88",
      "metadata": {
        "id": "8971ae88"
      },
      "source": [
        "The consequences of dropping missign values from the dataframe results to a reduction of the number of entries from 450,000 plus to 157742. What other ways do you suggest we consider?"
      ]
    },
    {
      "cell_type": "markdown",
      "source": [
        "Droping the neighbourhood group column instead of all the rows with missing data save most of the data.\n",
        "\n",
        "For reviews_per_month and last_review, a NaN value mean it's just a blank space that logically means the listing has zero reviews. Instead of dropping these 21% of the listings, we fill the nulls with a logical value.\n",
        "\n",
        "Last_review data will be used for feature engineering to create a new column called days_since_last_review by subtracting the last_review date from today's date. This gives us a number (e.g., \"30 days,\" \"400 days\").The NaN values in last_review (for listings with 0 reviews) will also be NaN in the new days_since_last_review column. We can fix this by filling these nulls with the median (average) value of the new column.\n",
        "\n",
        "By switching from dropping all rows to this we solve the data loss problem and keep over 400,000 rows in our dataset.\n",
        "\n",
        "\n",
        "\n"
      ],
      "metadata": {
        "id": "APMDOgK-g8p0"
      },
      "id": "APMDOgK-g8p0"
    },
    {
      "cell_type": "code",
      "source": [
        "recleaned_df= joined_df.drop(columns=['neighbourhood_group'])\n",
        "recleaned_df['reviews_per_month'].fillna(0, inplace=True)\n",
        "recleaned_df.shape"
      ],
      "metadata": {
        "colab": {
          "base_uri": "https://localhost:8080/"
        },
        "id": "7xgzktRgYZ4a",
        "outputId": "9557bbcb-3579-40d9-d70b-12414ee3ed4c"
      },
      "id": "7xgzktRgYZ4a",
      "execution_count": 166,
      "outputs": [
        {
          "output_type": "stream",
          "name": "stderr",
          "text": [
            "/tmp/ipython-input-624368456.py:2: FutureWarning: A value is trying to be set on a copy of a DataFrame or Series through chained assignment using an inplace method.\n",
            "The behavior will change in pandas 3.0. This inplace method will never work because the intermediate object on which we are setting values always behaves as a copy.\n",
            "\n",
            "For example, when doing 'df[col].method(value, inplace=True)', try using 'df.method({col: value}, inplace=True)' or df[col] = df[col].method(value) instead, to perform the operation inplace on the original object.\n",
            "\n",
            "\n",
            "  recleaned_df['reviews_per_month'].fillna(0, inplace=True)\n"
          ]
        },
        {
          "output_type": "execute_result",
          "data": {
            "text/plain": [
              "(458177, 16)"
            ]
          },
          "metadata": {},
          "execution_count": 166
        }
      ]
    },
    {
      "cell_type": "markdown",
      "source": [
        "Most numeric columns in the dataset are highly right-skewed, particularly price, minimum_nights, and calculated_host_listings_count, indicating a few extreme high values. In contrast, latitude, longitude, and availability are roughly symmetrical, while the ID columns are skewed but not meaningful for analysis."
      ],
      "metadata": {
        "id": "VpBSAx-3l5Ny"
      },
      "id": "VpBSAx-3l5Ny"
    },
    {
      "cell_type": "code",
      "source": [
        "# Checking for the logical consistency of the variables for reasonable ranges\n",
        "print(\"Logical Consistency Checks\")\n",
        "# Check 'price' for invalid values\n",
        "if 'price' in recleaned_df.columns:\n",
        "    invalid_prices = recleaned_df[recleaned_df['price'] <= 0]\n",
        "    print(f\"Listings with invalid price values (<=0): {len(invalid_prices)}\")\n",
        "# Check 'minimum_nights' for reasonable range\n",
        "if 'minimum_nights' in recleaned_df.columns:\n",
        "    print(f\"Minimum nights range: {recleaned_df['minimum_nights'].min()} - {recleaned_df['minimum_nights'].max()}\")\n",
        "# Check 'number_of_reviews' for reasonable range\n",
        "if 'number_of_reviews' in recleaned_df.columns:\n",
        "    print(f\"Number of reviews range: {recleaned_df['number_of_reviews'].min()} - {recleaned_df['number_of_reviews'].max()}\")\n",
        "# Check 'reviews_per_month' for reasonable range\n",
        "if 'reviews_per_month' in recleaned_df.columns:\n",
        "    print(f\"Reviews per month range: {recleaned_df['reviews_per_month'].min()} - {recleaned_df['reviews_per_month'].max()}\")\n",
        "# Check 'calculated_host_listings_count' for reasonable range\n",
        "if 'calculated_host_listings_count' in recleaned_df.columns:\n",
        "    print(f\"Host listings count range: {recleaned_df['calculated_host_listings_count'].min()} - {recleaned_df['calculated_host_listings_count'].max()}\")\n",
        "# Check 'availability_365' for reasonable range\n",
        "if 'availability_365' in recleaned_df.columns:\n",
        "    print(f\"Availability 365 range: {recleaned_df['availability_365'].min()} - {recleaned_df['availability_365'].max()}\")\n",
        "# Check 'latitude' and 'longitude' for geographic bounds\n",
        "if 'latitude' in recleaned_df.columns:\n",
        "    print(f\"Latitude range: {recleaned_df['latitude'].min()} - {recleaned_df['latitude'].max()}\")\n",
        "if 'longitude' in recleaned_df.columns:\n",
        "    print(f\"Longitude range: {recleaned_df['longitude'].min()} - {recleaned_df['longitude'].max()}\")\n"
      ],
      "metadata": {
        "colab": {
          "base_uri": "https://localhost:8080/"
        },
        "id": "jyfGMktEl3m3",
        "outputId": "904c66c7-3ef2-4954-d8fe-377cc3ebc5c8"
      },
      "id": "jyfGMktEl3m3",
      "execution_count": 167,
      "outputs": [
        {
          "output_type": "stream",
          "name": "stdout",
          "text": [
            "Logical Consistency Checks\n",
            "Listings with invalid price values (<=0): 140\n",
            "Minimum nights range: 1 - 100000000\n",
            "Number of reviews range: 0 - 3091\n",
            "Reviews per month range: 0.0 - 101.42\n",
            "Host listings count range: 1 - 1003\n",
            "Availability 365 range: 0 - 365\n",
            "Latitude range: 18.92099 - 47.73462\n",
            "Longitude range: -159.7149 - -70.99595\n"
          ]
        }
      ]
    },
    {
      "cell_type": "markdown",
      "source": [
        "A plot that displays the price outliers before we apply any fixing or capping."
      ],
      "metadata": {
        "id": "AFWyy8QZq4bm"
      },
      "id": "AFWyy8QZq4bm"
    },
    {
      "cell_type": "code",
      "source": [
        "# Creates a boxplot to visualize the price distribution.\n",
        "plt.figure(figsize=(12, 7))\n",
        "sns.boxplot(x=recleaned_df['price'])\n",
        "plt.title('Price Distribution (BEFORE Outlier Capping)', fontsize=16)\n",
        "plt.xlabel('Price ($) - Log Scale', fontsize=12)\n",
        "\n",
        "# Using a log scale is Essential, Without it, the outliers are so extreme that the\n",
        "# \"box\" part of the plot would be a single, invisible line.\n",
        "plt.xscale('log')\n",
        "plt.grid(axis='x', linestyle='--', alpha=0.7)\n",
        "\n",
        "plt.savefig('price_outliers_before_fixing.png')\n",
        "plt.show()\n",
        "print(\"This plot clearly shows the extreme range of prices before capping.\")"
      ],
      "metadata": {
        "colab": {
          "base_uri": "https://localhost:8080/",
          "height": 504
        },
        "id": "ptlLNVdMl3kW",
        "outputId": "416626b9-940d-4401-f523-c7eda5d29cd5"
      },
      "id": "ptlLNVdMl3kW",
      "execution_count": 168,
      "outputs": [
        {
          "output_type": "display_data",
          "data": {
            "text/plain": [
              "<Figure size 1200x700 with 1 Axes>"
            ],
            "image/png": "[encoded data removed]"
          },
          "metadata": {}
        },
        {
          "output_type": "stream",
          "name": "stdout",
          "text": [
            "This plot clearly shows the extreme range of prices before capping.\n"
          ]
        }
      ]
    },
    {
      "cell_type": "markdown",
      "source": [
        "outlier handling\n"
      ],
      "metadata": {
        "id": "o_4UAT52xD5B"
      },
      "id": "o_4UAT52xD5B"
    },
    {
      "cell_type": "code",
      "source": [
        "print(f\"Shape before outlier handling: {recleaned_df.shape}\")\n",
        "\n",
        "# We must first remove listings with a $0 price, as this is invalid data.\n",
        "initial_rows = recleaned_df.shape[0]\n",
        "recleaned_df = recleaned_df[recleaned_df['price'] > 0]\n",
        "rows_removed = initial_rows - recleaned_df.shape[0]\n",
        "\n",
        "print(f\"   - Removed {rows_removed} listings with $0 price.\")\n",
        "\n",
        "# Handle Extreme Outliers\n",
        "# Now we filter the \"impossible\" max values.\n",
        "# We cap at the 99.5th percentile.\n",
        "initial_rows = recleaned_df.shape[0]\n",
        "\n",
        "# Calculate the 99.5th percentile \"cap\"\n",
        "price_cap = recleaned_df['price'].quantile(0.995)\n",
        "nights_cap = recleaned_df['minimum_nights'].quantile(0.995)\n",
        "\n",
        "print(f\"   - Capping 'price' at 99.5th percentile: ${price_cap:,.2f}\")\n",
        "print(f\"   - Capping 'minimum_nights' at 99.5th percentile: {nights_cap:.0f} nights\")\n",
        "\n",
        "# Filter the DataFrame to keep only rows *below* or *at* the cap\n",
        "recleaned_df = recleaned_df[\n",
        "    (recleaned_df['price'] <= price_cap) &\n",
        "    (recleaned_df['minimum_nights'] <= nights_cap)\n",
        "    ]\n",
        "rows_removed = initial_rows - recleaned_df.shape[0]\n",
        "\n",
        "print(f\"   - Removed {rows_removed} extreme outlier listings.\")\n",
        "print(f\"Shape after outlier handling: {recleaned_df.shape}\")"
      ],
      "metadata": {
        "colab": {
          "base_uri": "https://localhost:8080/"
        },
        "id": "IxnkVRi5l3iI",
        "outputId": "a462f1db-4c7c-44d5-e1d8-e3022932a6b5"
      },
      "id": "IxnkVRi5l3iI",
      "execution_count": 169,
      "outputs": [
        {
          "output_type": "stream",
          "name": "stdout",
          "text": [
            "Shape before outlier handling: (458177, 16)\n",
            "   - Removed 140 listings with $0 price.\n",
            "   - Capping 'price' at 99.5th percentile: $2,674.00\n",
            "   - Capping 'minimum_nights' at 99.5th percentile: 120 nights\n",
            "   - Removed 4384 extreme outlier listings.\n",
            "Shape after outlier handling: (453653, 16)\n"
          ]
        }
      ]
    },
    {
      "cell_type": "markdown",
      "source": [
        "Logical consistency check after capping"
      ],
      "metadata": {
        "id": "iOVvZkJ-l3Or"
      },
      "id": "iOVvZkJ-l3Or"
    },
    {
      "cell_type": "code",
      "source": [
        "# Checking for the logical consistency of the variables for reasonable ranges\n",
        "print(\"Logical Consistency Checks\")\n",
        "# Check 'price' for invalid values\n",
        "if 'price' in recleaned_df.columns:\n",
        "    invalid_prices = recleaned_df[recleaned_df['price'] <= 0]\n",
        "    print(f\"Listings with invalid price values (<=0): {len(invalid_prices)}\")\n",
        "# Check 'minimum_nights' for reasonable range\n",
        "if 'minimum_nights' in recleaned_df.columns:\n",
        "    print(f\"Minimum nights range: {recleaned_df['minimum_nights'].min()} - {recleaned_df['minimum_nights'].max()}\")\n",
        "# Check 'number_of_reviews' for reasonable range\n",
        "if 'number_of_reviews' in recleaned_df.columns:\n",
        "    print(f\"Number of reviews range: {recleaned_df['number_of_reviews'].min()} - {recleaned_df['number_of_reviews'].max()}\")\n",
        "# Check 'reviews_per_month' for reasonable range\n",
        "if 'reviews_per_month' in recleaned_df.columns:\n",
        "    print(f\"Reviews per month range: {recleaned_df['reviews_per_month'].min()} - {recleaned_df['reviews_per_month'].max()}\")\n",
        "# Check 'calculated_host_listings_count' for reasonable range\n",
        "if 'calculated_host_listings_count' in recleaned_df.columns:\n",
        "    print(f\"Host listings count range: {recleaned_df['calculated_host_listings_count'].min()} - {recleaned_df['calculated_host_listings_count'].max()}\")\n",
        "# Check 'availability_365' for reasonable range\n",
        "if 'availability_365' in recleaned_df.columns:\n",
        "    print(f\"Availability 365 range: {recleaned_df['availability_365'].min()} - {recleaned_df['availability_365'].max()}\")\n",
        "# Check 'latitude' and 'longitude' for geographic bounds\n",
        "if 'latitude' in recleaned_df.columns:\n",
        "    print(f\"Latitude range: {recleaned_df['latitude'].min()} - {recleaned_df['latitude'].max()}\")\n",
        "if 'longitude' in recleaned_df.columns:\n",
        "    print(f\"Longitude range: {recleaned_df['longitude'].min()} - {recleaned_df['longitude'].max()}\")\n"
      ],
      "metadata": {
        "id": "3xU2S_ymjseP",
        "colab": {
          "base_uri": "https://localhost:8080/"
        },
        "outputId": "0a9e9254-8f55-45ac-f372-27ad205981fa"
      },
      "id": "3xU2S_ymjseP",
      "execution_count": 170,
      "outputs": [
        {
          "output_type": "stream",
          "name": "stdout",
          "text": [
            "Logical Consistency Checks\n",
            "Listings with invalid price values (<=0): 0\n",
            "Minimum nights range: 1 - 120\n",
            "Number of reviews range: 0 - 3091\n",
            "Reviews per month range: 0.0 - 101.42\n",
            "Host listings count range: 1 - 1003\n",
            "Availability 365 range: 0 - 365\n",
            "Latitude range: 18.92099 - 47.73462\n",
            "Longitude range: -159.7149 - -70.99595\n"
          ]
        }
      ]
    },
    {
      "cell_type": "code",
      "source": [],
      "metadata": {
        "id": "4OOYXpAajsaq"
      },
      "id": "4OOYXpAajsaq",
      "execution_count": 170,
      "outputs": []
    },
    {
      "cell_type": "code",
      "source": [],
      "metadata": {
        "id": "IAc7Fn8fjsJa"
      },
      "id": "IAc7Fn8fjsJa",
      "execution_count": 170,
      "outputs": []
    }
  ],
  "metadata": {
    "kernelspec": {
      "display_name": "base",
      "language": "python",
      "name": "python3"
    },
    "language_info": {
      "codemirror_mode": {
        "name": "ipython",
        "version": 3
      },
      "file_extension": ".py",
      "mimetype": "text/x-python",
      "name": "python",
      "nbconvert_exporter": "python",
      "pygments_lexer": "ipython3",
      "version": "3.13.5"
    },
    "colab": {
      "provenance": []
    }
  },
  "nbformat": 4,
  "nbformat_minor": 5
}