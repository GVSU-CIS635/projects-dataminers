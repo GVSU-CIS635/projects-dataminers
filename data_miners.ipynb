{
 "cells": [
  {
   "cell_type": "markdown",
   "id": "db1b04c3",
   "metadata": {},
   "source": [
    "## CIS 635 Project\n",
    "\n",
    "### Leveraging Data Mining to Understand and Predict Airbnb Listing Prices\n",
    "\n",
    "#### Loading required libraries"
   ]
  },
  {
   "cell_type": "code",
   "execution_count": 1,
   "id": "46999ddd",
   "metadata": {},
   "outputs": [],
   "source": [
    "import kagglehub\n",
    "import pandas as pd\n",
    "import numpy as np\n",
    "import os\n",
    "import matplotlib.pyplot as plt"
   ]
  },
  {
   "cell_type": "markdown",
   "id": "12f14210",
   "metadata": {},
   "source": [
    "#### Downloading data from kaggle website\n",
    "\n",
    "The data we are using for this project is hosted in kaggle. [U.S. Airbnb Open Data](https://www.kaggle.com/datasets/kritikseth/us-airbnb-open-data)"
   ]
  },
  {
   "cell_type": "markdown",
   "id": "98993891",
   "metadata": {},
   "source": [
    "#### Downloading datasets in csv format"
   ]
  },
  {
   "cell_type": "code",
   "execution_count": 11,
   "id": "6fbc00c3",
   "metadata": {},
   "outputs": [
    {
     "name": "stdout",
     "output_type": "stream",
     "text": [
      "Warning: Looks like you're using an outdated `kagglehub` version, please consider updating (latest version: 0.3.13)\n"
     ]
    }
   ],
   "source": [
    "#Path to the dataset\n",
    "path = kagglehub.dataset_download(\"kritikseth/us-airbnb-open-data\")\n"
   ]
  },
  {
   "cell_type": "code",
   "execution_count": 13,
   "id": "fab6d93d",
   "metadata": {},
   "outputs": [
    {
     "name": "stderr",
     "output_type": "stream",
     "text": [
      "C:\\Users\\obadi\\AppData\\Local\\Temp\\ipykernel_15780\\798040142.py:5: DtypeWarning: Columns (4) have mixed types. Specify dtype option on import or set low_memory=False.\n",
      "  df1 = pd.read_csv(csv_path1)\n"
     ]
    },
    {
     "name": "stdout",
     "output_type": "stream",
     "text": [
      "                 id       host_id       latitude      longitude  \\\n",
      "count  2.260300e+05  2.260300e+05  226030.000000  226030.000000   \n",
      "mean   2.547176e+07  9.352385e+07      35.662829    -103.220662   \n",
      "std    1.317814e+07  9.827422e+07       6.849855      26.222091   \n",
      "min    1.090000e+02  2.300000e+01      18.920990    -159.714900   \n",
      "25%    1.515890e+07  1.399275e+07      32.761783    -118.598115   \n",
      "50%    2.590916e+07  5.138266e+07      37.261125     -97.817200   \n",
      "75%    3.772624e+07  1.497179e+08      40.724038     -76.919323   \n",
      "max    4.556085e+07  3.679176e+08      47.734620     -70.995950   \n",
      "\n",
      "               price  minimum_nights  number_of_reviews  reviews_per_month  \\\n",
      "count  226030.000000    2.260300e+05      226030.000000       177428.00000   \n",
      "mean      219.716529    4.525490e+02          34.506530            1.43145   \n",
      "std       570.353609    2.103376e+05          63.602914            1.68321   \n",
      "min         0.000000    1.000000e+00           0.000000            0.01000   \n",
      "25%        75.000000    1.000000e+00           1.000000            0.23000   \n",
      "50%       121.000000    2.000000e+00           8.000000            0.81000   \n",
      "75%       201.000000    7.000000e+00          39.000000            2.06000   \n",
      "max     24999.000000    1.000000e+08         966.000000           44.06000   \n",
      "\n",
      "       calculated_host_listings_count  availability_365  \n",
      "count                   226030.000000     226030.000000  \n",
      "mean                        16.698562        159.314856  \n",
      "std                         51.068966        140.179628  \n",
      "min                          1.000000          0.000000  \n",
      "25%                          1.000000          0.000000  \n",
      "50%                          2.000000        140.000000  \n",
      "75%                          6.000000        311.000000  \n",
      "max                        593.000000        365.000000  \n",
      "                 id       host_id       latitude      longitude  \\\n",
      "count  2.321470e+05  2.321470e+05  232147.000000  232147.000000   \n",
      "mean   2.584580e+17  1.582248e+08      36.610585     -98.301436   \n",
      "std    3.465985e+17  1.587164e+08       5.126523      19.706929   \n",
      "min    6.000000e+00  2.300000e+01      25.957323    -123.089130   \n",
      "25%    2.638896e+07  2.299242e+07      33.976225    -118.315111   \n",
      "50%    4.896307e+07  1.005783e+08      36.190556     -97.727670   \n",
      "75%    6.633014e+17  2.686930e+08      40.717440     -77.026222   \n",
      "max    8.581014e+17  5.069384e+08      47.734010     -70.996000   \n",
      "\n",
      "               price  minimum_nights  number_of_reviews  reviews_per_month  \\\n",
      "count  232147.000000   232147.000000      232147.000000      183062.000000   \n",
      "mean      259.468001       13.495867          40.915230           1.638348   \n",
      "std      1024.645918       27.920631          80.649152           1.910812   \n",
      "min         0.000000        1.000000           0.000000           0.010000   \n",
      "25%        91.000000        2.000000           1.000000           0.310000   \n",
      "50%       149.000000        3.000000           9.000000           1.000000   \n",
      "75%       250.000000       30.000000          43.000000           2.420000   \n",
      "max    100000.000000     1250.000000        3091.000000         101.420000   \n",
      "\n",
      "       calculated_host_listings_count  availability_365  number_of_reviews_ltm  \n",
      "count                   232147.000000     232147.000000          232147.000000  \n",
      "mean                        29.879055        180.985686              11.689701  \n",
      "std                        106.013665        134.715299              20.599954  \n",
      "min                          1.000000          0.000000               0.000000  \n",
      "25%                          1.000000         52.000000               0.000000  \n",
      "50%                          2.000000        175.000000               3.000000  \n",
      "75%                         10.000000        321.000000              16.000000  \n",
      "max                       1003.000000        365.000000            1314.000000  \n"
     ]
    },
    {
     "name": "stderr",
     "output_type": "stream",
     "text": [
      "C:\\Users\\obadi\\AppData\\Local\\Temp\\ipykernel_15780\\798040142.py:6: DtypeWarning: Columns (4) have mixed types. Specify dtype option on import or set low_memory=False.\n",
      "  df2 = pd.read_csv(csv_path2)\n"
     ]
    }
   ],
   "source": [
    "#Connecting to files in path\n",
    "csv_path1 = os.path.join(path, \"AB_US_2020.csv\")\n",
    "csv_path2 = os.path.join(path, \"AB_US_2023.csv\")\n",
    "#Load the data from CSV files\n",
    "df1 = pd.read_csv(csv_path1)\n",
    "df2 = pd.read_csv(csv_path2)\n",
    "#Previewing the two datasets\n",
    "print(df1.describe())\n",
    "print(df2.describe())"
   ]
  },
  {
   "cell_type": "code",
   "execution_count": 14,
   "id": "7f55d5f9",
   "metadata": {},
   "outputs": [
    {
     "name": "stdout",
     "output_type": "stream",
     "text": [
      "Columns in df1 = 17\n",
      "Columns in df2 = 18\n"
     ]
    }
   ],
   "source": [
    "#checking the length of columns in df1 and df2\n",
    "print(f'Columns in df1 = {len(df1.columns)}')\n",
    "print(f'Columns in df2 = {len(df2.columns)}')"
   ]
  },
  {
   "cell_type": "code",
   "execution_count": 16,
   "id": "838ae4cd",
   "metadata": {},
   "outputs": [
    {
     "name": "stdout",
     "output_type": "stream",
     "text": [
      "Common columns: {'last_review', 'room_type', 'longitude', 'number_of_reviews', 'availability_365', 'name', 'price', 'latitude', 'neighbourhood_group', 'host_name', 'calculated_host_listings_count', 'city', 'host_id', 'minimum_nights', 'reviews_per_month', 'neighbourhood', 'id'}\n",
      "Columns unique to df2: {'number_of_reviews_ltm'}\n"
     ]
    }
   ],
   "source": [
    "#Selecting columns common in both df1 and df2 before concatenating the dataframes\n",
    "df1_cols = set(df1.columns)\n",
    "df2_cols = set(df2.columns)\n",
    "\n",
    "#Common columns\n",
    "common = df1_cols & df2_cols\n",
    "unique_to_df2 = df2_cols - df1_cols\n",
    "print(\"Common columns:\", common)\n",
    "print(\"Columns unique to df2:\", unique_to_df2)"
   ]
  },
  {
   "cell_type": "code",
   "execution_count": 17,
   "id": "418f0805",
   "metadata": {},
   "outputs": [
    {
     "name": "stdout",
     "output_type": "stream",
     "text": [
      "\n",
      "Columns unique to df1: set()\n",
      "\n",
      "Columns unique to df2: {'number_of_reviews_ltm'}\n"
     ]
    }
   ],
   "source": [
    "# Finding unique columns in df1 (columns that are in df1 but not in df2)\n",
    "unique_df1 = df1_cols - df2_cols\n",
    "print(\"\\nColumns unique to df1:\", unique_df1)\n",
    "# Finding unique columns in df2 (columns that are in df2 but not in df1)\n",
    "unique_df2 = df2_cols - df1_cols\n",
    "print(\"\\nColumns unique to df2:\", unique_df2)"
   ]
  },
  {
   "cell_type": "code",
   "execution_count": 18,
   "id": "8f3d5b96",
   "metadata": {},
   "outputs": [
    {
     "data": {
      "text/plain": [
       "17"
      ]
     },
     "execution_count": 18,
     "metadata": {},
     "output_type": "execute_result"
    }
   ],
   "source": [
    "#selecting only common columns in df2 to merge df1.\n",
    "df2 = df2[list(common)]\n",
    "len(df2.columns)"
   ]
  },
  {
   "cell_type": "code",
   "execution_count": 19,
   "id": "30bd9182",
   "metadata": {},
   "outputs": [],
   "source": [
    "#concatenating df1 and df2\n",
    "joined_df = pd.concat([df1, df2], axis=0, ignore_index=True)\n",
    "merged_df = joined_df.copy()"
   ]
  },
  {
   "cell_type": "code",
   "execution_count": 20,
   "id": "6c07f971",
   "metadata": {},
   "outputs": [
    {
     "data": {
      "text/html": [
       "<div>\n",
       "<style scoped>\n",
       "    .dataframe tbody tr th:only-of-type {\n",
       "        vertical-align: middle;\n",
       "    }\n",
       "\n",
       "    .dataframe tbody tr th {\n",
       "        vertical-align: top;\n",
       "    }\n",
       "\n",
       "    .dataframe thead th {\n",
       "        text-align: right;\n",
       "    }\n",
       "</style>\n",
       "<table border=\"1\" class=\"dataframe\">\n",
       "  <thead>\n",
       "    <tr style=\"text-align: right;\">\n",
       "      <th></th>\n",
       "      <th>id</th>\n",
       "      <th>name</th>\n",
       "      <th>host_id</th>\n",
       "      <th>host_name</th>\n",
       "      <th>neighbourhood_group</th>\n",
       "      <th>neighbourhood</th>\n",
       "      <th>latitude</th>\n",
       "      <th>longitude</th>\n",
       "      <th>room_type</th>\n",
       "      <th>price</th>\n",
       "      <th>minimum_nights</th>\n",
       "      <th>number_of_reviews</th>\n",
       "      <th>last_review</th>\n",
       "      <th>reviews_per_month</th>\n",
       "      <th>calculated_host_listings_count</th>\n",
       "      <th>availability_365</th>\n",
       "      <th>city</th>\n",
       "    </tr>\n",
       "  </thead>\n",
       "  <tbody>\n",
       "    <tr>\n",
       "      <th>0</th>\n",
       "      <td>38585</td>\n",
       "      <td>Charming Victorian home - twin beds + breakfast</td>\n",
       "      <td>165529</td>\n",
       "      <td>Evelyne</td>\n",
       "      <td>NaN</td>\n",
       "      <td>28804</td>\n",
       "      <td>35.65146</td>\n",
       "      <td>-82.62792</td>\n",
       "      <td>Private room</td>\n",
       "      <td>60</td>\n",
       "      <td>1</td>\n",
       "      <td>138</td>\n",
       "      <td>16/02/20</td>\n",
       "      <td>1.14</td>\n",
       "      <td>1</td>\n",
       "      <td>0</td>\n",
       "      <td>Asheville</td>\n",
       "    </tr>\n",
       "    <tr>\n",
       "      <th>1</th>\n",
       "      <td>80905</td>\n",
       "      <td>French Chic Loft</td>\n",
       "      <td>427027</td>\n",
       "      <td>Celeste</td>\n",
       "      <td>NaN</td>\n",
       "      <td>28801</td>\n",
       "      <td>35.59779</td>\n",
       "      <td>-82.55540</td>\n",
       "      <td>Entire home/apt</td>\n",
       "      <td>470</td>\n",
       "      <td>1</td>\n",
       "      <td>114</td>\n",
       "      <td>07/09/20</td>\n",
       "      <td>1.03</td>\n",
       "      <td>11</td>\n",
       "      <td>288</td>\n",
       "      <td>Asheville</td>\n",
       "    </tr>\n",
       "    <tr>\n",
       "      <th>2</th>\n",
       "      <td>108061</td>\n",
       "      <td>Walk to stores/parks/downtown. Fenced yard/Pet...</td>\n",
       "      <td>320564</td>\n",
       "      <td>Lisa</td>\n",
       "      <td>NaN</td>\n",
       "      <td>28801</td>\n",
       "      <td>35.60670</td>\n",
       "      <td>-82.55563</td>\n",
       "      <td>Entire home/apt</td>\n",
       "      <td>75</td>\n",
       "      <td>30</td>\n",
       "      <td>89</td>\n",
       "      <td>30/11/19</td>\n",
       "      <td>0.81</td>\n",
       "      <td>2</td>\n",
       "      <td>298</td>\n",
       "      <td>Asheville</td>\n",
       "    </tr>\n",
       "    <tr>\n",
       "      <th>3</th>\n",
       "      <td>155305</td>\n",
       "      <td>Cottage! BonPaul + Sharky's Hostel</td>\n",
       "      <td>746673</td>\n",
       "      <td>BonPaul</td>\n",
       "      <td>NaN</td>\n",
       "      <td>28806</td>\n",
       "      <td>35.57864</td>\n",
       "      <td>-82.59578</td>\n",
       "      <td>Entire home/apt</td>\n",
       "      <td>90</td>\n",
       "      <td>1</td>\n",
       "      <td>267</td>\n",
       "      <td>22/09/20</td>\n",
       "      <td>2.39</td>\n",
       "      <td>5</td>\n",
       "      <td>0</td>\n",
       "      <td>Asheville</td>\n",
       "    </tr>\n",
       "    <tr>\n",
       "      <th>4</th>\n",
       "      <td>160594</td>\n",
       "      <td>Historic Grove Park</td>\n",
       "      <td>769252</td>\n",
       "      <td>Elizabeth</td>\n",
       "      <td>NaN</td>\n",
       "      <td>28801</td>\n",
       "      <td>35.61442</td>\n",
       "      <td>-82.54127</td>\n",
       "      <td>Private room</td>\n",
       "      <td>125</td>\n",
       "      <td>30</td>\n",
       "      <td>58</td>\n",
       "      <td>19/10/15</td>\n",
       "      <td>0.52</td>\n",
       "      <td>1</td>\n",
       "      <td>0</td>\n",
       "      <td>Asheville</td>\n",
       "    </tr>\n",
       "  </tbody>\n",
       "</table>\n",
       "</div>"
      ],
      "text/plain": [
       "       id                                               name  host_id  \\\n",
       "0   38585    Charming Victorian home - twin beds + breakfast   165529   \n",
       "1   80905                                   French Chic Loft   427027   \n",
       "2  108061  Walk to stores/parks/downtown. Fenced yard/Pet...   320564   \n",
       "3  155305                 Cottage! BonPaul + Sharky's Hostel   746673   \n",
       "4  160594                                Historic Grove Park   769252   \n",
       "\n",
       "   host_name neighbourhood_group neighbourhood  latitude  longitude  \\\n",
       "0    Evelyne                 NaN         28804  35.65146  -82.62792   \n",
       "1    Celeste                 NaN         28801  35.59779  -82.55540   \n",
       "2       Lisa                 NaN         28801  35.60670  -82.55563   \n",
       "3    BonPaul                 NaN         28806  35.57864  -82.59578   \n",
       "4  Elizabeth                 NaN         28801  35.61442  -82.54127   \n",
       "\n",
       "         room_type  price  minimum_nights  number_of_reviews last_review  \\\n",
       "0     Private room     60               1                138    16/02/20   \n",
       "1  Entire home/apt    470               1                114    07/09/20   \n",
       "2  Entire home/apt     75              30                 89    30/11/19   \n",
       "3  Entire home/apt     90               1                267    22/09/20   \n",
       "4     Private room    125              30                 58    19/10/15   \n",
       "\n",
       "   reviews_per_month  calculated_host_listings_count  availability_365  \\\n",
       "0               1.14                               1                 0   \n",
       "1               1.03                              11               288   \n",
       "2               0.81                               2               298   \n",
       "3               2.39                               5                 0   \n",
       "4               0.52                               1                 0   \n",
       "\n",
       "        city  \n",
       "0  Asheville  \n",
       "1  Asheville  \n",
       "2  Asheville  \n",
       "3  Asheville  \n",
       "4  Asheville  "
      ]
     },
     "execution_count": 20,
     "metadata": {},
     "output_type": "execute_result"
    }
   ],
   "source": [
    "joined_df.head()"
   ]
  },
  {
   "cell_type": "code",
   "execution_count": 21,
   "id": "de84a0de",
   "metadata": {},
   "outputs": [
    {
     "data": {
      "text/plain": [
       "(458177, 17)"
      ]
     },
     "execution_count": 21,
     "metadata": {},
     "output_type": "execute_result"
    }
   ],
   "source": [
    "joined_df.shape"
   ]
  },
  {
   "cell_type": "markdown",
   "id": "7997b638",
   "metadata": {},
   "source": [
    "The dataframe consists of 458177 entries and 17 variables."
   ]
  },
  {
   "cell_type": "code",
   "execution_count": 27,
   "id": "442ad1e8",
   "metadata": {},
   "outputs": [
    {
     "name": "stdout",
     "output_type": "stream",
     "text": [
      "<class 'pandas.core.frame.DataFrame'>\n",
      "RangeIndex: 458177 entries, 0 to 458176\n",
      "Data columns (total 17 columns):\n",
      " #   Column                          Dtype  \n",
      "---  ------                          -----  \n",
      " 0   id                              int64  \n",
      " 1   name                            object \n",
      " 2   host_id                         int64  \n",
      " 3   host_name                       object \n",
      " 4   neighbourhood_group             object \n",
      " 5   neighbourhood                   object \n",
      " 6   latitude                        float64\n",
      " 7   longitude                       float64\n",
      " 8   room_type                       object \n",
      " 9   price                           int64  \n",
      " 10  minimum_nights                  int64  \n",
      " 11  number_of_reviews               int64  \n",
      " 12  last_review                     object \n",
      " 13  reviews_per_month               float64\n",
      " 14  calculated_host_listings_count  int64  \n",
      " 15  availability_365                int64  \n",
      " 16  city                            object \n",
      "dtypes: float64(3), int64(7), object(7)\n",
      "memory usage: 59.4+ MB\n",
      "None\n"
     ]
    }
   ],
   "source": [
    "#Checking the data types of various variables in the dataframe.\n",
    "print(joined_df.info(show_counts=False))"
   ]
  },
  {
   "cell_type": "markdown",
   "id": "f1453594",
   "metadata": {},
   "source": [
    "#### Checking the number of missing values for every column in joined df"
   ]
  },
  {
   "cell_type": "code",
   "execution_count": 29,
   "id": "fad6eb82",
   "metadata": {},
   "outputs": [
    {
     "data": {
      "image/png": "[encoded data removed]",
      "text/plain": [
       "<Figure size 1400x600 with 1 Axes>"
      ]
     },
     "metadata": {},
     "output_type": "display_data"
    }
   ],
   "source": [
    "missing_counts = joined_df.isnull().sum()\n",
    "missing_df = pd.DataFrame({'column': missing_counts.index, \n",
    "                           'missing_percent': (missing_counts.values/len(joined_df))*100\n",
    "                           })\n",
    "missing_df = missing_df.sort_values(by='missing_percent', ascending=False)\n",
    "plt.figure(figsize=(14, 6))\n",
    "bars = plt.barh(missing_df['column'], missing_df['missing_percent'], color='blue')\n",
    "plt.ylim(-0.5, len(missing_df['column']) - 0.5)\n",
    "plt.xlabel('Percentage of sissing values')\n",
    "plt.title('Percentage of missing data by Column')\n",
    "plt.gca().invert_yaxis()\n",
    "plt.grid(axis='x', linestyle='--', alpha=0.7)\n",
    "for bar, percent in zip(bars, missing_df['missing_percent']):\n",
    "    plt.text(percent + 0.4, bar.get_y() + bar.get_height()/2,\n",
    "             f'{percent:.2f}%', va='center', fontsize=9)\n",
    "plt.tight_layout()\n",
    "plt.show()"
   ]
  },
  {
   "cell_type": "markdown",
   "id": "5039c7c4",
   "metadata": {},
   "source": [
    "Neighbourhood_group variable has the highest number of missing values at 54.89% of the total entries for neighbourhood_group. Reviews_per_month and last_review both have 21.32% of missing values. host_name and name have 0.01% of missing values which is negligible."
   ]
  },
  {
   "cell_type": "code",
   "execution_count": 33,
   "id": "cf3b80e3",
   "metadata": {},
   "outputs": [
    {
     "data": {
      "text/plain": [
       "(157742, 17)"
      ]
     },
     "execution_count": 33,
     "metadata": {},
     "output_type": "execute_result"
    }
   ],
   "source": [
    "cleaned_df = joined_df.dropna()\n",
    "cleaned_df.shape"
   ]
  },
  {
   "cell_type": "markdown",
   "id": "8971ae88",
   "metadata": {},
   "source": [
    "The consequences of dropping missign values from the dataframe results to a reduction of the number of entries from 450,000 plus to 157742. What other ways do you suggest we consider?"
   ]
  }
 ],
 "metadata": {
  "kernelspec": {
   "display_name": "base",
   "language": "python",
   "name": "python3"
  },
  "language_info": {
   "codemirror_mode": {
    "name": "ipython",
    "version": 3
   },
   "file_extension": ".py",
   "mimetype": "text/x-python",
   "name": "python",
   "nbconvert_exporter": "python",
   "pygments_lexer": "ipython3",
   "version": "3.13.5"
  }
 },
 "nbformat": 4,
 "nbformat_minor": 5
}
